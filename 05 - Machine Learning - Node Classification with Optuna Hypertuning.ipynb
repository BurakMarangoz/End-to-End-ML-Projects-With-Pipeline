{
 "cells": [
  {
   "cell_type": "code",
   "execution_count": 1,
   "id": "b38d3c14",
   "metadata": {},
   "outputs": [],
   "source": [
    "import warnings\n",
    "warnings.filterwarnings(\"ignore\")\n",
    "\n",
    "import networkx as nx\n",
    "import pandas as pd\n",
    "pd.options.display.max_columns = 100\n",
    "import numpy as np\n",
    "from IPython.display import display\n",
    "\n",
    "from node2vec import Node2Vec\n",
    "from graphrole import RecursiveFeatureExtractor\n",
    "\n",
    "from sklearn.model_selection import StratifiedKFold,cross_validate,train_test_split\n",
    "from sklearn.metrics import accuracy_score,f1_score\n",
    "from sklearn.pipeline import Pipeline\n",
    "from sklearn.preprocessing import StandardScaler\n",
    "from sklearn.preprocessing import LabelEncoder\n",
    "\n",
    "import itertools \n",
    "from tqdm import tqdm\n",
    "import optuna\n",
    "import logging\n",
    "optuna.logging.set_verbosity(optuna.logging.WARNING)\n",
    "\n",
    "# Dim. Red. and Feature Selection:\n",
    "from sklearn.feature_selection import RFECV\n",
    "from sklearn.decomposition import PCA\n",
    "\n",
    "# Engine selectors\n",
    "from feature_engine.selection import (DropConstantFeatures,DropDuplicateFeatures,SmartCorrelatedSelection,\n",
    "                                      DropCorrelatedFeatures)\n",
    "\n",
    "\n",
    "# Models:\n",
    "from sklearn.tree import DecisionTreeClassifier\n",
    "from xgboost import XGBClassifier\n",
    "from sklearn.discriminant_analysis import QuadraticDiscriminantAnalysis\n",
    "from sklearn.ensemble import RandomForestClassifier\n",
    "from sklearn.neural_network import MLPClassifier"
   ]
  },
  {
   "cell_type": "markdown",
   "id": "fce35d97",
   "metadata": {},
   "source": [
    "**Step: Reading edgelist and labels, creating graph**"
   ]
  },
  {
   "cell_type": "code",
   "execution_count": 2,
   "id": "e8b3ada4",
   "metadata": {},
   "outputs": [],
   "source": [
    "new_g = nx.read_edgelist('stdcommnet.edges')"
   ]
  },
  {
   "cell_type": "code",
   "execution_count": 3,
   "id": "0d0b6025",
   "metadata": {},
   "outputs": [],
   "source": [
    "labels = pd.read_csv('stddepartments.txt', sep=' ', index_col='stdid')"
   ]
  },
  {
   "cell_type": "markdown",
   "id": "aa759e3e",
   "metadata": {},
   "source": [
    "**Step: Feature creation**"
   ]
  },
  {
   "cell_type": "code",
   "execution_count": 4,
   "id": "22b7897e",
   "metadata": {},
   "outputs": [],
   "source": [
    "degree_centrality = nx.degree_centrality(new_g)\n",
    "betweenness_centrality = nx.betweenness_centrality(new_g)\n",
    "closeness_centrality = nx.closeness_centrality(new_g)\n",
    "pagerank = nx.pagerank(new_g)\n",
    "clustering_coefficient = nx.clustering(new_g)\n",
    "eigenvector_centrality = nx.eigenvector_centrality(new_g)\n",
    "triangles = nx.triangles(new_g)\n",
    "\n",
    "neighbourhood_size = {}\n",
    "for node in new_g.nodes():\n",
    "    neighbourhood_size[node] = new_g.degree(node)\n",
    "\n",
    "mean_external_connections = {}\n",
    "for node in new_g.nodes():\n",
    "    external_connections = sum(new_g.degree(neighbor) for neighbor in new_g.neighbors(node) if neighbor != node)\n",
    "    mean_external_connections[node] = external_connections / neighbourhood_size[node]\n",
    "\n",
    "node_centrality_difference = {}\n",
    "for node in new_g.nodes():\n",
    "    node_centrality_difference[node] = degree_centrality[node] - eigenvector_centrality[node]"
   ]
  },
  {
   "cell_type": "code",
   "execution_count": 5,
   "id": "35964602",
   "metadata": {},
   "outputs": [],
   "source": [
    "new_features = [closeness_centrality,pagerank,clustering_coefficient,eigenvector_centrality,\n",
    "                neighbourhood_size,mean_external_connections,node_centrality_difference,triangles]\n",
    "\n",
    "my_features_df = pd.DataFrame.from_dict(betweenness_centrality, orient ='index', columns=[\"col1\"]) \n",
    "\n",
    "for i in new_features:\n",
    "    df1 = pd.DataFrame.from_dict(i, orient ='index') \n",
    "    column_name = f'col{len(my_features_df.columns) + 1}'\n",
    "    my_features_df[column_name] = df1[0]"
   ]
  },
  {
   "cell_type": "code",
   "execution_count": 6,
   "id": "b0be45c7",
   "metadata": {
    "scrolled": true
   },
   "outputs": [
    {
     "data": {
      "text/html": [
       "<div>\n",
       "<style scoped>\n",
       "    .dataframe tbody tr th:only-of-type {\n",
       "        vertical-align: middle;\n",
       "    }\n",
       "\n",
       "    .dataframe tbody tr th {\n",
       "        vertical-align: top;\n",
       "    }\n",
       "\n",
       "    .dataframe thead th {\n",
       "        text-align: right;\n",
       "    }\n",
       "</style>\n",
       "<table border=\"1\" class=\"dataframe\">\n",
       "  <thead>\n",
       "    <tr style=\"text-align: right;\">\n",
       "      <th></th>\n",
       "      <th>col1</th>\n",
       "      <th>col2</th>\n",
       "      <th>col3</th>\n",
       "      <th>col4</th>\n",
       "      <th>col5</th>\n",
       "      <th>col6</th>\n",
       "      <th>col7</th>\n",
       "      <th>col8</th>\n",
       "      <th>col9</th>\n",
       "    </tr>\n",
       "  </thead>\n",
       "  <tbody>\n",
       "    <tr>\n",
       "      <th>0</th>\n",
       "      <td>0.004689</td>\n",
       "      <td>0.401620</td>\n",
       "      <td>0.003665</td>\n",
       "      <td>0.471014</td>\n",
       "      <td>0.035426</td>\n",
       "      <td>26</td>\n",
       "      <td>28.576923</td>\n",
       "      <td>0.039502</td>\n",
       "      <td>130</td>\n",
       "    </tr>\n",
       "    <tr>\n",
       "      <th>1</th>\n",
       "      <td>0.003313</td>\n",
       "      <td>0.400231</td>\n",
       "      <td>0.003522</td>\n",
       "      <td>0.383399</td>\n",
       "      <td>0.033586</td>\n",
       "      <td>25</td>\n",
       "      <td>30.360000</td>\n",
       "      <td>0.038460</td>\n",
       "      <td>97</td>\n",
       "    </tr>\n",
       "    <tr>\n",
       "      <th>316</th>\n",
       "      <td>0.001999</td>\n",
       "      <td>0.370331</td>\n",
       "      <td>0.003445</td>\n",
       "      <td>0.495238</td>\n",
       "      <td>0.023328</td>\n",
       "      <td>23</td>\n",
       "      <td>25.086957</td>\n",
       "      <td>0.042954</td>\n",
       "      <td>104</td>\n",
       "    </tr>\n",
       "    <tr>\n",
       "      <th>146</th>\n",
       "      <td>0.005588</td>\n",
       "      <td>0.398393</td>\n",
       "      <td>0.003061</td>\n",
       "      <td>0.279412</td>\n",
       "      <td>0.022315</td>\n",
       "      <td>19</td>\n",
       "      <td>27.157895</td>\n",
       "      <td>0.032440</td>\n",
       "      <td>38</td>\n",
       "    </tr>\n",
       "    <tr>\n",
       "      <th>221</th>\n",
       "      <td>0.008583</td>\n",
       "      <td>0.431592</td>\n",
       "      <td>0.005145</td>\n",
       "      <td>0.373874</td>\n",
       "      <td>0.056489</td>\n",
       "      <td>37</td>\n",
       "      <td>32.432432</td>\n",
       "      <td>0.050139</td>\n",
       "      <td>249</td>\n",
       "    </tr>\n",
       "  </tbody>\n",
       "</table>\n",
       "</div>"
      ],
      "text/plain": [
       "         col1      col2      col3      col4      col5  col6       col7   \n",
       "0    0.004689  0.401620  0.003665  0.471014  0.035426    26  28.576923  \\\n",
       "1    0.003313  0.400231  0.003522  0.383399  0.033586    25  30.360000   \n",
       "316  0.001999  0.370331  0.003445  0.495238  0.023328    23  25.086957   \n",
       "146  0.005588  0.398393  0.003061  0.279412  0.022315    19  27.157895   \n",
       "221  0.008583  0.431592  0.005145  0.373874  0.056489    37  32.432432   \n",
       "\n",
       "         col8  col9  \n",
       "0    0.039502   130  \n",
       "1    0.038460    97  \n",
       "316  0.042954   104  \n",
       "146  0.032440    38  \n",
       "221  0.050139   249  "
      ]
     },
     "execution_count": 6,
     "metadata": {},
     "output_type": "execute_result"
    }
   ],
   "source": [
    "my_features_df.head()"
   ]
  },
  {
   "cell_type": "markdown",
   "id": "e843e8be",
   "metadata": {},
   "source": [
    "# Kitchen sink:\n",
    "\n",
    "**I think the features extracted from Node2Vec,rolx and 9 feature that I created will be highly correlated. However, since I will use the DropConstantFeatures, DropDuplicateFeatures, DropCorrelatedFeatures, SmartCorrelatedSelection functions from the feature engine library in the pipeline, I continue with a method similar to the \"kitchen sink\".**"
   ]
  },
  {
   "cell_type": "code",
   "execution_count": 7,
   "id": "412f95d2",
   "metadata": {},
   "outputs": [],
   "source": [
    "def preprocess_for_ml(a,b,c,d,e):\n",
    "    n2v = Node2Vec(new_g, dimensions=a, num_walks=b, walk_length=c, p=d, q=e)\n",
    "    n2v_model = n2v.fit(window=4, min_count=1, batch_words=4)\n",
    "    \n",
    "    n2vrep = dict()\n",
    "    for node in new_g.nodes():\n",
    "        n2vrep[node] = n2v_model.wv[str(node)]\n",
    "    df_n2v = pd.DataFrame(n2vrep).T\n",
    "\n",
    "    feat_ext = RecursiveFeatureExtractor(new_g, max_generations=5)\n",
    "    rolx_feats = feat_ext.extract_features()\n",
    "    df_feats_all = pd.merge(df_n2v, rolx_feats, left_index=True, right_index=True)\n",
    "\n",
    "    df_feats_all.index = df_feats_all.index.astype(np.int64, copy=True)\n",
    "    df_data = pd.merge(df_feats_all, labels, left_index=True, right_index=True)\n",
    "    df_data.columns = df_data.columns.astype(str)\n",
    "\n",
    "    my_features_df.index = my_features_df.index.astype(np.int64, copy=True)\n",
    "    kitchen_sink_df = pd.merge(df_data, my_features_df, left_index=True, right_index=True)\n",
    "\n",
    "    unknowns = kitchen_sink_df[kitchen_sink_df.label=='unknown']\n",
    "    raw_df = kitchen_sink_df[kitchen_sink_df.label!='unknown']\n",
    "\n",
    "    X = raw_df.drop(columns=['label'])\n",
    "    y = raw_df.label\n",
    "    X_unknown=unknowns.drop(columns=['label'])\n",
    "\n",
    "    X_train, X_test, y_train, y_test = train_test_split(X, y, test_size=0.3, stratify=y, random_state=42)\n",
    "\n",
    "    le = LabelEncoder()\n",
    "    y_train_encoded = le.fit_transform(y_train)\n",
    "    y_test_encoded = le.transform(y_test)\n",
    "    return n2v_model, X_train, X_test, y_train_encoded, y_test_encoded, X_unknown"
   ]
  },
  {
   "cell_type": "code",
   "execution_count": 8,
   "id": "ec5c8852",
   "metadata": {},
   "outputs": [],
   "source": [
    "estimator = DecisionTreeClassifier(random_state=42)\n",
    "scoring = \"f1_macro\""
   ]
  },
  {
   "cell_type": "markdown",
   "id": "9d33f85d",
   "metadata": {},
   "source": [
    "**For the dimensions, num_walks, walk_length, p and q values, I will try the following values as combinations.**\n",
    "\n",
    "**For each trial, I will apply 2 different methods as dimensity reduction and feature selection.**\n",
    "\n",
    "**I will build models with Random Forest, XGB, QDA and MLP. While choosing these models, I paid attention to their algorithms being 4 different approaches.**"
   ]
  },
  {
   "cell_type": "code",
   "execution_count": 9,
   "id": "fd7a25a8",
   "metadata": {},
   "outputs": [],
   "source": [
    "dim_list = [8,10]\n",
    "walk_list = [12,15]\n",
    "walk_dist = [8,10]\n",
    "p_list = [0.5, 0.7]\n",
    "q_list = [2,3]\n",
    "\n",
    "# Clfs\n",
    "classifier_list = [RandomForestClassifier(random_state=42),XGBClassifier(),\n",
    "                   QuadraticDiscriminantAnalysis(),MLPClassifier(random_state=42)]\n",
    "\n",
    "classifier_names = [\"RFC\",\"XGB\",\"Quad\",\"MLP\"]\n",
    "\n",
    "# Selectors\n",
    "reduction_list = [PCA(n_components=0.95,random_state=42),RFECV(estimator=estimator,scoring=scoring)]"
   ]
  },
  {
   "cell_type": "code",
   "execution_count": 21,
   "id": "5821abaa",
   "metadata": {},
   "outputs": [],
   "source": [
    "combins = itertools.product(dim_list,walk_list,walk_dist,p_list,q_list)"
   ]
  },
  {
   "cell_type": "markdown",
   "id": "559224f2",
   "metadata": {},
   "source": [
    "**Cross validation with 5 stratified splits:**"
   ]
  },
  {
   "cell_type": "code",
   "execution_count": 12,
   "id": "c04bf792",
   "metadata": {},
   "outputs": [],
   "source": [
    "kf = StratifiedKFold(n_splits=5, shuffle=True, random_state=42)"
   ]
  },
  {
   "cell_type": "markdown",
   "id": "9426a5b2",
   "metadata": {},
   "source": [
    "**For hyperparameter tuning, I will use optuna** "
   ]
  },
  {
   "cell_type": "code",
   "execution_count": 13,
   "id": "6144efc2",
   "metadata": {},
   "outputs": [],
   "source": [
    "def objective(trial):\n",
    "    if i == 0:  # RandomForestClassifier\n",
    "        params = {'n_estimators': trial.suggest_int('n_estimators', 150, 300),\n",
    "                  'max_depth': trial.suggest_int('max_depth', 4,7),\n",
    "                  'min_samples_split': trial.suggest_int('min_samples_split', 6,8),\n",
    "                  'min_samples_leaf': trial.suggest_int('min_samples_leaf', 1, 5),\n",
    "                  'max_features': trial.suggest_categorical('max_features', ['sqrt', 'auto'])}\n",
    "        \n",
    "    elif i == 1:  # XGBClassifier\n",
    "        params = {'learning_rate': trial.suggest_float('learning_rate', 0.1, 0.2),\n",
    "                  'max_depth': trial.suggest_int('max_depth', 9, 10),\n",
    "                  'subsample': trial.suggest_float('subsample', 0.7, 1.0),\n",
    "                  'colsample_bytree': trial.suggest_float('colsample_bytree', 0.5, 0.9),\n",
    "                  'reg_alpha': trial.suggest_float('reg_alpha', 0.0, 0.3),\n",
    "                  'reg_lambda': trial.suggest_float('reg_lambda', 0.8, 1.0)}\n",
    "        \n",
    "    elif i == 2:  # QuadraticDiscriminantAnalysis\n",
    "        params = {'reg_param': trial.suggest_float('reg_param', 0.4, 1.0)}\n",
    "        \n",
    "    elif i == 3:  # MLPClassifier\n",
    "        params = {'hidden_layer_sizes': trial.suggest_int('hidden_layer_sizes', 100, 150),\n",
    "                  'activation': trial.suggest_categorical('activation', ['relu']),\n",
    "                  'solver': trial.suggest_categorical('solver', ['adam']),\n",
    "                  'alpha': trial.suggest_float('alpha', 0.0002, 0.0005),\n",
    "                  'learning_rate_init': trial.suggest_float('learning_rate_init', 0.005, 0.010)}\n",
    "\n",
    "    classifier_list[i].fit(X_train, y_train_encoded)\n",
    "    preds = classifier_list[i].predict(X_test)\n",
    "    score = f1_score(y_test_encoded, preds, average='macro')\n",
    "\n",
    "    return score"
   ]
  },
  {
   "cell_type": "code",
   "execution_count": 14,
   "id": "6b463228",
   "metadata": {},
   "outputs": [],
   "source": [
    "def get_best_params():\n",
    "    if i == 0:\n",
    "        best_model = RandomForestClassifier(**best_params)\n",
    "    elif i == 1:\n",
    "        best_model = XGBClassifier(**best_params)\n",
    "    elif i == 2:\n",
    "        best_model = QuadraticDiscriminantAnalysis(**best_params)\n",
    "    elif i == 3:\n",
    "        best_model = MLPClassifier(**best_params)\n",
    "    return best_model"
   ]
  },
  {
   "cell_type": "markdown",
   "id": "7bb09286",
   "metadata": {},
   "source": [
    "**Trials with loops and collecting results in lists**"
   ]
  },
  {
   "cell_type": "code",
   "execution_count": 22,
   "id": "8265a340",
   "metadata": {
    "scrolled": true
   },
   "outputs": [
    {
     "name": "stderr",
     "output_type": "stream",
     "text": [
      "\r",
      "0it [00:00, ?it/s]"
     ]
    },
    {
     "data": {
      "application/vnd.jupyter.widget-view+json": {
       "model_id": "892c6ccfed1f4a868e0023f4464c865f",
       "version_major": 2,
       "version_minor": 0
      },
      "text/plain": [
       "Computing transition probabilities:   0%|          | 0/348 [00:00<?, ?it/s]"
      ]
     },
     "metadata": {},
     "output_type": "display_data"
    },
    {
     "name": "stderr",
     "output_type": "stream",
     "text": [
      "\n",
      "Generating walks (CPU: 1):   0%|                                                                | 0/12 [00:00<?, ?it/s]\u001b[A\n",
      "Generating walks (CPU: 1):  42%|███████████████████████▎                                | 5/12 [00:00<00:00, 34.32it/s]\u001b[A\n",
      "Generating walks (CPU: 1): 100%|███████████████████████████████████████████████████████| 12/12 [00:00<00:00, 31.67it/s]\u001b[A\n",
      "1it [32:06, 1926.77s/it]"
     ]
    },
    {
     "data": {
      "application/vnd.jupyter.widget-view+json": {
       "model_id": "193ef035cb0b4dddaa0547d818a7fb64",
       "version_major": 2,
       "version_minor": 0
      },
      "text/plain": [
       "Computing transition probabilities:   0%|          | 0/348 [00:00<?, ?it/s]"
      ]
     },
     "metadata": {},
     "output_type": "display_data"
    },
    {
     "name": "stderr",
     "output_type": "stream",
     "text": [
      "\n",
      "Generating walks (CPU: 1):   0%|                                                                | 0/12 [00:00<?, ?it/s]\u001b[A\n",
      "Generating walks (CPU: 1):  50%|████████████████████████████                            | 6/12 [00:00<00:00, 42.75it/s]\u001b[A\n",
      "Generating walks (CPU: 1): 100%|███████████████████████████████████████████████████████| 12/12 [00:00<00:00, 29.04it/s]\u001b[A\n",
      "2it [1:01:59, 1848.08s/it]"
     ]
    },
    {
     "data": {
      "application/vnd.jupyter.widget-view+json": {
       "model_id": "b45464847abb4f50bb4ce5c4a26c0f70",
       "version_major": 2,
       "version_minor": 0
      },
      "text/plain": [
       "Computing transition probabilities:   0%|          | 0/348 [00:00<?, ?it/s]"
      ]
     },
     "metadata": {},
     "output_type": "display_data"
    },
    {
     "name": "stderr",
     "output_type": "stream",
     "text": [
      "\n",
      "Generating walks (CPU: 1):   0%|                                                                | 0/12 [00:00<?, ?it/s]\u001b[A\n",
      "Generating walks (CPU: 1):  42%|███████████████████████▎                                | 5/12 [00:00<00:00, 39.57it/s]\u001b[A\n",
      "Generating walks (CPU: 1): 100%|███████████████████████████████████████████████████████| 12/12 [00:00<00:00, 33.10it/s]\u001b[A\n",
      "3it [1:32:14, 1832.71s/it]"
     ]
    },
    {
     "data": {
      "application/vnd.jupyter.widget-view+json": {
       "model_id": "957ce70ac3e44145bc507cb4904d75de",
       "version_major": 2,
       "version_minor": 0
      },
      "text/plain": [
       "Computing transition probabilities:   0%|          | 0/348 [00:00<?, ?it/s]"
      ]
     },
     "metadata": {},
     "output_type": "display_data"
    },
    {
     "name": "stderr",
     "output_type": "stream",
     "text": [
      "\n",
      "Generating walks (CPU: 1):   0%|                                                                | 0/12 [00:00<?, ?it/s]\u001b[A\n",
      "Generating walks (CPU: 1):  42%|███████████████████████▎                                | 5/12 [00:00<00:00, 44.71it/s]\u001b[A\n",
      "Generating walks (CPU: 1): 100%|███████████████████████████████████████████████████████| 12/12 [00:00<00:00, 34.56it/s]\u001b[A\n",
      "4it [1:58:28, 1730.81s/it]"
     ]
    },
    {
     "data": {
      "application/vnd.jupyter.widget-view+json": {
       "model_id": "618a726dc39a46f2b2a96dc60c96e1eb",
       "version_major": 2,
       "version_minor": 0
      },
      "text/plain": [
       "Computing transition probabilities:   0%|          | 0/348 [00:00<?, ?it/s]"
      ]
     },
     "metadata": {},
     "output_type": "display_data"
    },
    {
     "name": "stderr",
     "output_type": "stream",
     "text": [
      "\n",
      "Generating walks (CPU: 1):   0%|                                                                | 0/12 [00:00<?, ?it/s]\u001b[A\n",
      "Generating walks (CPU: 1):  33%|██████████████████▋                                     | 4/12 [00:00<00:00, 37.59it/s]\u001b[A\n",
      "Generating walks (CPU: 1):  67%|█████████████████████████████████████▎                  | 8/12 [00:00<00:00, 33.35it/s]\u001b[A\n",
      "Generating walks (CPU: 1): 100%|███████████████████████████████████████████████████████| 12/12 [00:00<00:00, 29.41it/s]\u001b[A\n",
      "5it [2:08:12, 1317.03s/it]"
     ]
    },
    {
     "data": {
      "application/vnd.jupyter.widget-view+json": {
       "model_id": "fdc9f3702d1b4b4b87478e31cb1f3504",
       "version_major": 2,
       "version_minor": 0
      },
      "text/plain": [
       "Computing transition probabilities:   0%|          | 0/348 [00:00<?, ?it/s]"
      ]
     },
     "metadata": {},
     "output_type": "display_data"
    },
    {
     "name": "stderr",
     "output_type": "stream",
     "text": [
      "\n",
      "Generating walks (CPU: 1):   0%|                                                                | 0/12 [00:00<?, ?it/s]\u001b[A\n",
      "Generating walks (CPU: 1):  33%|██████████████████▋                                     | 4/12 [00:00<00:00, 31.45it/s]\u001b[A\n",
      "Generating walks (CPU: 1):  67%|█████████████████████████████████████▎                  | 8/12 [00:00<00:00, 26.00it/s]\u001b[A\n",
      "Generating walks (CPU: 1): 100%|███████████████████████████████████████████████████████| 12/12 [00:00<00:00, 24.56it/s]\u001b[A\n",
      "6it [2:17:22, 1056.42s/it]"
     ]
    },
    {
     "data": {
      "application/vnd.jupyter.widget-view+json": {
       "model_id": "2df410e83023424ca0644fd84bb36029",
       "version_major": 2,
       "version_minor": 0
      },
      "text/plain": [
       "Computing transition probabilities:   0%|          | 0/348 [00:00<?, ?it/s]"
      ]
     },
     "metadata": {},
     "output_type": "display_data"
    },
    {
     "name": "stderr",
     "output_type": "stream",
     "text": [
      "\n",
      "Generating walks (CPU: 1):   0%|                                                                | 0/12 [00:00<?, ?it/s]\u001b[A\n",
      "Generating walks (CPU: 1):  25%|██████████████                                          | 3/12 [00:00<00:00, 23.75it/s]\u001b[A\n",
      "Generating walks (CPU: 1):  58%|████████████████████████████████▋                       | 7/12 [00:00<00:00, 24.91it/s]\u001b[A\n",
      "Generating walks (CPU: 1): 100%|███████████████████████████████████████████████████████| 12/12 [00:00<00:00, 25.44it/s]\u001b[A\n",
      "7it [2:30:37, 970.98s/it] "
     ]
    },
    {
     "data": {
      "application/vnd.jupyter.widget-view+json": {
       "model_id": "84f6b83bfde94b32b056b03cdf095265",
       "version_major": 2,
       "version_minor": 0
      },
      "text/plain": [
       "Computing transition probabilities:   0%|          | 0/348 [00:00<?, ?it/s]"
      ]
     },
     "metadata": {},
     "output_type": "display_data"
    },
    {
     "name": "stderr",
     "output_type": "stream",
     "text": [
      "\n",
      "Generating walks (CPU: 1):   0%|                                                                | 0/12 [00:00<?, ?it/s]\u001b[A\n",
      "Generating walks (CPU: 1):  33%|██████████████████▋                                     | 4/12 [00:00<00:00, 33.37it/s]\u001b[A\n",
      "Generating walks (CPU: 1):  67%|█████████████████████████████████████▎                  | 8/12 [00:00<00:00, 28.35it/s]\u001b[A\n",
      "Generating walks (CPU: 1): 100%|███████████████████████████████████████████████████████| 12/12 [00:00<00:00, 27.56it/s]\u001b[A\n",
      "8it [2:55:39, 1140.09s/it]"
     ]
    },
    {
     "data": {
      "application/vnd.jupyter.widget-view+json": {
       "model_id": "4f04930c9f1a4a2a8a6098e1a3b6ff2f",
       "version_major": 2,
       "version_minor": 0
      },
      "text/plain": [
       "Computing transition probabilities:   0%|          | 0/348 [00:00<?, ?it/s]"
      ]
     },
     "metadata": {},
     "output_type": "display_data"
    },
    {
     "name": "stderr",
     "output_type": "stream",
     "text": [
      "\n",
      "Generating walks (CPU: 1):   0%|                                                                | 0/15 [00:00<?, ?it/s]\u001b[A\n",
      "Generating walks (CPU: 1):  27%|██████████████▉                                         | 4/15 [00:00<00:00, 33.08it/s]\u001b[A\n",
      "Generating walks (CPU: 1):  60%|█████████████████████████████████▌                      | 9/15 [00:00<00:00, 39.96it/s]\u001b[A\n",
      "Generating walks (CPU: 1): 100%|███████████████████████████████████████████████████████| 15/15 [00:00<00:00, 36.13it/s]\u001b[A\n",
      "9it [3:20:09, 1242.97s/it]"
     ]
    },
    {
     "data": {
      "application/vnd.jupyter.widget-view+json": {
       "model_id": "834126290d934b028b4d2572ecd7b4bd",
       "version_major": 2,
       "version_minor": 0
      },
      "text/plain": [
       "Computing transition probabilities:   0%|          | 0/348 [00:00<?, ?it/s]"
      ]
     },
     "metadata": {},
     "output_type": "display_data"
    },
    {
     "name": "stderr",
     "output_type": "stream",
     "text": [
      "\n",
      "Generating walks (CPU: 1):   0%|                                                                | 0/15 [00:00<?, ?it/s]\u001b[A\n",
      "Generating walks (CPU: 1):  33%|██████████████████▋                                     | 5/15 [00:00<00:00, 41.46it/s]\u001b[A\n",
      "Generating walks (CPU: 1):  67%|████████████████████████████████████▋                  | 10/15 [00:00<00:00, 40.29it/s]\u001b[A\n",
      "Generating walks (CPU: 1): 100%|███████████████████████████████████████████████████████| 15/15 [00:00<00:00, 35.74it/s]\u001b[A\n",
      "10it [3:51:51, 1446.47s/it]"
     ]
    },
    {
     "data": {
      "application/vnd.jupyter.widget-view+json": {
       "model_id": "a326fd6130b741b58e19b068d57442ea",
       "version_major": 2,
       "version_minor": 0
      },
      "text/plain": [
       "Computing transition probabilities:   0%|          | 0/348 [00:00<?, ?it/s]"
      ]
     },
     "metadata": {},
     "output_type": "display_data"
    },
    {
     "name": "stderr",
     "output_type": "stream",
     "text": [
      "\n",
      "Generating walks (CPU: 1):   0%|                                                                | 0/15 [00:00<?, ?it/s]\u001b[A\n",
      "Generating walks (CPU: 1):  33%|██████████████████▋                                     | 5/15 [00:00<00:00, 34.20it/s]\u001b[A\n",
      "Generating walks (CPU: 1):  60%|█████████████████████████████████▌                      | 9/15 [00:00<00:00, 35.72it/s]\u001b[A\n",
      "Generating walks (CPU: 1): 100%|███████████████████████████████████████████████████████| 15/15 [00:00<00:00, 32.81it/s]\u001b[A\n",
      "11it [4:12:45, 1387.63s/it]"
     ]
    },
    {
     "data": {
      "application/vnd.jupyter.widget-view+json": {
       "model_id": "d6bebb63b1b74537b6d1f6939e42e8bb",
       "version_major": 2,
       "version_minor": 0
      },
      "text/plain": [
       "Computing transition probabilities:   0%|          | 0/348 [00:00<?, ?it/s]"
      ]
     },
     "metadata": {},
     "output_type": "display_data"
    },
    {
     "name": "stderr",
     "output_type": "stream",
     "text": [
      "\n",
      "Generating walks (CPU: 1):   0%|                                                                | 0/15 [00:00<?, ?it/s]\u001b[A\n",
      "Generating walks (CPU: 1):  47%|██████████████████████████▏                             | 7/15 [00:00<00:00, 60.23it/s]\u001b[A\n",
      "Generating walks (CPU: 1): 100%|███████████████████████████████████████████████████████| 15/15 [00:00<00:00, 51.92it/s]\u001b[A\n",
      "12it [4:16:44, 1038.28s/it]"
     ]
    },
    {
     "data": {
      "application/vnd.jupyter.widget-view+json": {
       "model_id": "35126271bf904d8698ccc1c57a300769",
       "version_major": 2,
       "version_minor": 0
      },
      "text/plain": [
       "Computing transition probabilities:   0%|          | 0/348 [00:00<?, ?it/s]"
      ]
     },
     "metadata": {},
     "output_type": "display_data"
    },
    {
     "name": "stderr",
     "output_type": "stream",
     "text": [
      "\n",
      "Generating walks (CPU: 1):   0%|                                                                | 0/15 [00:00<?, ?it/s]\u001b[A\n",
      "Generating walks (CPU: 1):  33%|██████████████████▋                                     | 5/15 [00:00<00:00, 39.97it/s]\u001b[A\n",
      "Generating walks (CPU: 1):  67%|████████████████████████████████████▋                  | 10/15 [00:00<00:00, 40.97it/s]\u001b[A\n",
      "Generating walks (CPU: 1): 100%|███████████████████████████████████████████████████████| 15/15 [00:00<00:00, 36.03it/s]\u001b[A\n",
      "13it [4:20:46, 796.91s/it] "
     ]
    },
    {
     "data": {
      "application/vnd.jupyter.widget-view+json": {
       "model_id": "a90a0210cd784d62aa68f2c6d3ae5673",
       "version_major": 2,
       "version_minor": 0
      },
      "text/plain": [
       "Computing transition probabilities:   0%|          | 0/348 [00:00<?, ?it/s]"
      ]
     },
     "metadata": {},
     "output_type": "display_data"
    },
    {
     "name": "stderr",
     "output_type": "stream",
     "text": [
      "\n",
      "Generating walks (CPU: 1):   0%|                                                                | 0/15 [00:00<?, ?it/s]\u001b[A\n",
      "Generating walks (CPU: 1):  40%|██████████████████████▍                                 | 6/15 [00:00<00:00, 54.87it/s]\u001b[A\n",
      "Generating walks (CPU: 1): 100%|███████████████████████████████████████████████████████| 15/15 [00:00<00:00, 39.94it/s]\u001b[A\n",
      "14it [4:24:34, 625.17s/it]"
     ]
    },
    {
     "data": {
      "application/vnd.jupyter.widget-view+json": {
       "model_id": "efcf5143d9fb4280a379f2afb0c5a670",
       "version_major": 2,
       "version_minor": 0
      },
      "text/plain": [
       "Computing transition probabilities:   0%|          | 0/348 [00:00<?, ?it/s]"
      ]
     },
     "metadata": {},
     "output_type": "display_data"
    },
    {
     "name": "stderr",
     "output_type": "stream",
     "text": [
      "\n",
      "Generating walks (CPU: 1):   0%|                                                                | 0/15 [00:00<?, ?it/s]\u001b[A\n",
      "Generating walks (CPU: 1):  47%|██████████████████████████▏                             | 7/15 [00:00<00:00, 64.22it/s]\u001b[A\n",
      "Generating walks (CPU: 1): 100%|███████████████████████████████████████████████████████| 15/15 [00:00<00:00, 45.83it/s]\u001b[A\n",
      "15it [4:28:03, 499.65s/it]"
     ]
    },
    {
     "data": {
      "application/vnd.jupyter.widget-view+json": {
       "model_id": "1efb17dd9ed340eb89eb5e576077d5f9",
       "version_major": 2,
       "version_minor": 0
      },
      "text/plain": [
       "Computing transition probabilities:   0%|          | 0/348 [00:00<?, ?it/s]"
      ]
     },
     "metadata": {},
     "output_type": "display_data"
    },
    {
     "name": "stderr",
     "output_type": "stream",
     "text": [
      "\n",
      "Generating walks (CPU: 1):   0%|                                                                | 0/15 [00:00<?, ?it/s]\u001b[A\n",
      "Generating walks (CPU: 1):  47%|██████████████████████████▏                             | 7/15 [00:00<00:00, 58.06it/s]\u001b[A\n",
      "Generating walks (CPU: 1): 100%|███████████████████████████████████████████████████████| 15/15 [00:00<00:00, 46.36it/s]\u001b[A\n",
      "16it [4:32:28, 429.20s/it]"
     ]
    },
    {
     "data": {
      "application/vnd.jupyter.widget-view+json": {
       "model_id": "556c5e6317ad455a925dc1e57869e53a",
       "version_major": 2,
       "version_minor": 0
      },
      "text/plain": [
       "Computing transition probabilities:   0%|          | 0/348 [00:00<?, ?it/s]"
      ]
     },
     "metadata": {},
     "output_type": "display_data"
    },
    {
     "name": "stderr",
     "output_type": "stream",
     "text": [
      "\n",
      "Generating walks (CPU: 1):   0%|                                                                | 0/12 [00:00<?, ?it/s]\u001b[A\n",
      "Generating walks (CPU: 1): 100%|███████████████████████████████████████████████████████| 12/12 [00:00<00:00, 59.57it/s]\u001b[A\n",
      "17it [4:36:35, 374.33s/it]"
     ]
    },
    {
     "data": {
      "application/vnd.jupyter.widget-view+json": {
       "model_id": "6a42018b96744d9e88ddce07ea1d0a3b",
       "version_major": 2,
       "version_minor": 0
      },
      "text/plain": [
       "Computing transition probabilities:   0%|          | 0/348 [00:00<?, ?it/s]"
      ]
     },
     "metadata": {},
     "output_type": "display_data"
    },
    {
     "name": "stderr",
     "output_type": "stream",
     "text": [
      "\n",
      "Generating walks (CPU: 1):   0%|                                                                | 0/12 [00:00<?, ?it/s]\u001b[A\n",
      "Generating walks (CPU: 1): 100%|███████████████████████████████████████████████████████| 12/12 [00:00<00:00, 61.38it/s]\u001b[A\n",
      "18it [11:26:24, 7650.60s/it]"
     ]
    },
    {
     "data": {
      "application/vnd.jupyter.widget-view+json": {
       "model_id": "bcdaa480d3a347c8b4547a5c81fb52e5",
       "version_major": 2,
       "version_minor": 0
      },
      "text/plain": [
       "Computing transition probabilities:   0%|          | 0/348 [00:00<?, ?it/s]"
      ]
     },
     "metadata": {},
     "output_type": "display_data"
    },
    {
     "name": "stderr",
     "output_type": "stream",
     "text": [
      "\n",
      "Generating walks (CPU: 1):   0%|                                                                | 0/12 [00:00<?, ?it/s]\u001b[A\n",
      "Generating walks (CPU: 1): 100%|███████████████████████████████████████████████████████| 12/12 [00:00<00:00, 60.03it/s]\u001b[A\n",
      "19it [11:31:25, 5443.15s/it]"
     ]
    },
    {
     "data": {
      "application/vnd.jupyter.widget-view+json": {
       "model_id": "f5189139027540fd9fea9fc64e7f7ada",
       "version_major": 2,
       "version_minor": 0
      },
      "text/plain": [
       "Computing transition probabilities:   0%|          | 0/348 [00:00<?, ?it/s]"
      ]
     },
     "metadata": {},
     "output_type": "display_data"
    },
    {
     "name": "stderr",
     "output_type": "stream",
     "text": [
      "\n",
      "Generating walks (CPU: 1):   0%|                                                                | 0/12 [00:00<?, ?it/s]\u001b[A\n",
      "Generating walks (CPU: 1): 100%|███████████████████████████████████████████████████████| 12/12 [00:00<00:00, 58.73it/s]\u001b[A\n",
      "20it [11:36:49, 3906.19s/it]"
     ]
    },
    {
     "data": {
      "application/vnd.jupyter.widget-view+json": {
       "model_id": "eea0b16ef9d2488ca887e55a59ce6d9c",
       "version_major": 2,
       "version_minor": 0
      },
      "text/plain": [
       "Computing transition probabilities:   0%|          | 0/348 [00:00<?, ?it/s]"
      ]
     },
     "metadata": {},
     "output_type": "display_data"
    },
    {
     "name": "stderr",
     "output_type": "stream",
     "text": [
      "\n",
      "Generating walks (CPU: 1):   0%|                                                                | 0/12 [00:00<?, ?it/s]\u001b[A\n",
      "Generating walks (CPU: 1):  50%|████████████████████████████                            | 6/12 [00:00<00:00, 51.49it/s]\u001b[A\n",
      "Generating walks (CPU: 1): 100%|███████████████████████████████████████████████████████| 12/12 [00:00<00:00, 44.94it/s]\u001b[A\n",
      "21it [11:48:44, 2948.15s/it]"
     ]
    },
    {
     "data": {
      "application/vnd.jupyter.widget-view+json": {
       "model_id": "d69d5d1a807743b99c5ea407cff52f21",
       "version_major": 2,
       "version_minor": 0
      },
      "text/plain": [
       "Computing transition probabilities:   0%|          | 0/348 [00:00<?, ?it/s]"
      ]
     },
     "metadata": {},
     "output_type": "display_data"
    },
    {
     "name": "stderr",
     "output_type": "stream",
     "text": [
      "\n",
      "Generating walks (CPU: 1):   0%|                                                                | 0/12 [00:00<?, ?it/s]\u001b[A\n",
      "Generating walks (CPU: 1):  50%|████████████████████████████                            | 6/12 [00:00<00:00, 48.45it/s]\u001b[A\n",
      "Generating walks (CPU: 1): 100%|███████████████████████████████████████████████████████| 12/12 [00:00<00:00, 42.87it/s]\u001b[A\n",
      "22it [11:54:03, 2159.19s/it]"
     ]
    },
    {
     "data": {
      "application/vnd.jupyter.widget-view+json": {
       "model_id": "ae1790424d0e415191d4af58c35ce36b",
       "version_major": 2,
       "version_minor": 0
      },
      "text/plain": [
       "Computing transition probabilities:   0%|          | 0/348 [00:00<?, ?it/s]"
      ]
     },
     "metadata": {},
     "output_type": "display_data"
    },
    {
     "name": "stderr",
     "output_type": "stream",
     "text": [
      "\n",
      "Generating walks (CPU: 1):   0%|                                                                | 0/12 [00:00<?, ?it/s]\u001b[A\n",
      "Generating walks (CPU: 1):  50%|████████████████████████████                            | 6/12 [00:00<00:00, 54.52it/s]\u001b[A\n",
      "Generating walks (CPU: 1): 100%|███████████████████████████████████████████████████████| 12/12 [00:00<00:00, 44.35it/s]\u001b[A\n",
      "23it [12:14:47, 1884.71s/it]"
     ]
    },
    {
     "data": {
      "application/vnd.jupyter.widget-view+json": {
       "model_id": "6b85e8363a2849a99e40f56d9ccc0c95",
       "version_major": 2,
       "version_minor": 0
      },
      "text/plain": [
       "Computing transition probabilities:   0%|          | 0/348 [00:00<?, ?it/s]"
      ]
     },
     "metadata": {},
     "output_type": "display_data"
    },
    {
     "name": "stderr",
     "output_type": "stream",
     "text": [
      "\n",
      "Generating walks (CPU: 1):   0%|                                                                | 0/12 [00:00<?, ?it/s]\u001b[A\n",
      "Generating walks (CPU: 1):  50%|████████████████████████████                            | 6/12 [00:00<00:00, 55.76it/s]\u001b[A\n",
      "Generating walks (CPU: 1): 100%|███████████████████████████████████████████████████████| 12/12 [00:00<00:00, 44.31it/s]\u001b[A\n",
      "24it [12:20:05, 1414.48s/it]"
     ]
    },
    {
     "data": {
      "application/vnd.jupyter.widget-view+json": {
       "model_id": "772f1085494a41bb9a1fe64114b2d65a",
       "version_major": 2,
       "version_minor": 0
      },
      "text/plain": [
       "Computing transition probabilities:   0%|          | 0/348 [00:00<?, ?it/s]"
      ]
     },
     "metadata": {},
     "output_type": "display_data"
    },
    {
     "name": "stderr",
     "output_type": "stream",
     "text": [
      "\n",
      "Generating walks (CPU: 1):   0%|                                                                | 0/15 [00:00<?, ?it/s]\u001b[A\n",
      "Generating walks (CPU: 1):  47%|██████████████████████████▏                             | 7/15 [00:00<00:00, 68.08it/s]\u001b[A\n",
      "Generating walks (CPU: 1): 100%|███████████████████████████████████████████████████████| 15/15 [00:00<00:00, 58.85it/s]\u001b[A\n",
      "25it [12:25:30, 1087.69s/it]"
     ]
    },
    {
     "data": {
      "application/vnd.jupyter.widget-view+json": {
       "model_id": "5d95e158ae374cb4b20bd678d09cd78e",
       "version_major": 2,
       "version_minor": 0
      },
      "text/plain": [
       "Computing transition probabilities:   0%|          | 0/348 [00:00<?, ?it/s]"
      ]
     },
     "metadata": {},
     "output_type": "display_data"
    },
    {
     "name": "stderr",
     "output_type": "stream",
     "text": [
      "\n",
      "Generating walks (CPU: 1):   0%|                                                                | 0/15 [00:00<?, ?it/s]\u001b[A\n",
      "Generating walks (CPU: 1):  47%|██████████████████████████▏                             | 7/15 [00:00<00:00, 68.18it/s]\u001b[A\n",
      "Generating walks (CPU: 1): 100%|███████████████████████████████████████████████████████| 15/15 [00:00<00:00, 54.84it/s]\u001b[A\n",
      "26it [12:29:22, 830.76s/it] "
     ]
    },
    {
     "data": {
      "application/vnd.jupyter.widget-view+json": {
       "model_id": "acb3dae960b94f7dbf2b40672dbf1a05",
       "version_major": 2,
       "version_minor": 0
      },
      "text/plain": [
       "Computing transition probabilities:   0%|          | 0/348 [00:00<?, ?it/s]"
      ]
     },
     "metadata": {},
     "output_type": "display_data"
    },
    {
     "name": "stderr",
     "output_type": "stream",
     "text": [
      "\n",
      "Generating walks (CPU: 1):   0%|                                                                | 0/15 [00:00<?, ?it/s]\u001b[A\n",
      "Generating walks (CPU: 1):  47%|██████████████████████████▏                             | 7/15 [00:00<00:00, 68.83it/s]\u001b[A\n",
      "Generating walks (CPU: 1): 100%|███████████████████████████████████████████████████████| 15/15 [00:00<00:00, 56.65it/s]\u001b[A\n",
      "27it [12:33:16, 651.91s/it]"
     ]
    },
    {
     "data": {
      "application/vnd.jupyter.widget-view+json": {
       "model_id": "d9e8bde277a64326a7d217f7ba112f41",
       "version_major": 2,
       "version_minor": 0
      },
      "text/plain": [
       "Computing transition probabilities:   0%|          | 0/348 [00:00<?, ?it/s]"
      ]
     },
     "metadata": {},
     "output_type": "display_data"
    },
    {
     "name": "stderr",
     "output_type": "stream",
     "text": [
      "\n",
      "Generating walks (CPU: 1):   0%|                                                                | 0/15 [00:00<?, ?it/s]\u001b[A\n",
      "Generating walks (CPU: 1):  33%|██████████████████▋                                     | 5/15 [00:00<00:00, 32.73it/s]\u001b[A\n",
      "Generating walks (CPU: 1): 100%|███████████████████████████████████████████████████████| 15/15 [00:00<00:00, 44.27it/s]\u001b[A\n",
      "28it [12:37:24, 530.73s/it]"
     ]
    },
    {
     "data": {
      "application/vnd.jupyter.widget-view+json": {
       "model_id": "e484f0de07ca45c7830099bff151ed6f",
       "version_major": 2,
       "version_minor": 0
      },
      "text/plain": [
       "Computing transition probabilities:   0%|          | 0/348 [00:00<?, ?it/s]"
      ]
     },
     "metadata": {},
     "output_type": "display_data"
    },
    {
     "name": "stderr",
     "output_type": "stream",
     "text": [
      "\n",
      "Generating walks (CPU: 1):   0%|                                                                | 0/15 [00:00<?, ?it/s]\u001b[A\n",
      "Generating walks (CPU: 1):  40%|██████████████████████▍                                 | 6/15 [00:00<00:00, 52.03it/s]\u001b[A\n",
      "Generating walks (CPU: 1): 100%|███████████████████████████████████████████████████████| 15/15 [00:00<00:00, 45.45it/s]\u001b[A\n",
      "29it [12:41:15, 440.66s/it]"
     ]
    },
    {
     "data": {
      "application/vnd.jupyter.widget-view+json": {
       "model_id": "bc5ae11427b04876b813e7c510b38187",
       "version_major": 2,
       "version_minor": 0
      },
      "text/plain": [
       "Computing transition probabilities:   0%|          | 0/348 [00:00<?, ?it/s]"
      ]
     },
     "metadata": {},
     "output_type": "display_data"
    },
    {
     "name": "stderr",
     "output_type": "stream",
     "text": [
      "\n",
      "Generating walks (CPU: 1):   0%|                                                                | 0/15 [00:00<?, ?it/s]\u001b[A\n",
      "Generating walks (CPU: 1):  40%|██████████████████████▍                                 | 6/15 [00:00<00:00, 54.80it/s]\u001b[A\n",
      "Generating walks (CPU: 1): 100%|███████████████████████████████████████████████████████| 15/15 [00:00<00:00, 45.45it/s]\u001b[A\n",
      "30it [12:45:03, 376.88s/it]"
     ]
    },
    {
     "data": {
      "application/vnd.jupyter.widget-view+json": {
       "model_id": "8107e0500649409e987bf6def272e7ab",
       "version_major": 2,
       "version_minor": 0
      },
      "text/plain": [
       "Computing transition probabilities:   0%|          | 0/348 [00:00<?, ?it/s]"
      ]
     },
     "metadata": {},
     "output_type": "display_data"
    },
    {
     "name": "stderr",
     "output_type": "stream",
     "text": [
      "\n",
      "Generating walks (CPU: 1):   0%|                                                                | 0/15 [00:00<?, ?it/s]\u001b[A\n",
      "Generating walks (CPU: 1):  40%|██████████████████████▍                                 | 6/15 [00:00<00:00, 54.75it/s]\u001b[A\n",
      "Generating walks (CPU: 1): 100%|███████████████████████████████████████████████████████| 15/15 [00:00<00:00, 45.04it/s]\u001b[A\n",
      "31it [12:49:20, 340.95s/it]"
     ]
    },
    {
     "data": {
      "application/vnd.jupyter.widget-view+json": {
       "model_id": "9599d27d3d4e4e5cabbcf7f92a3a0334",
       "version_major": 2,
       "version_minor": 0
      },
      "text/plain": [
       "Computing transition probabilities:   0%|          | 0/348 [00:00<?, ?it/s]"
      ]
     },
     "metadata": {},
     "output_type": "display_data"
    },
    {
     "name": "stderr",
     "output_type": "stream",
     "text": [
      "\n",
      "Generating walks (CPU: 1):   0%|                                                                | 0/15 [00:00<?, ?it/s]\u001b[A\n",
      "Generating walks (CPU: 1):  40%|██████████████████████▍                                 | 6/15 [00:00<00:00, 53.66it/s]\u001b[A\n",
      "Generating walks (CPU: 1): 100%|███████████████████████████████████████████████████████| 15/15 [00:00<00:00, 46.23it/s]\u001b[A\n",
      "32it [12:53:28, 1450.25s/it]\n"
     ]
    }
   ],
   "source": [
    "dim_results = []\n",
    "walk_results = []\n",
    "walk_dist_results = []\n",
    "p_results = []\n",
    "q_results = []\n",
    "selector_results = []\n",
    "classifier_names = []\n",
    "val_acc_train_results = []\n",
    "val_acc_test_results = []\n",
    "acc_test_results = []\n",
    "val_f1_train_results = []\n",
    "val_f1_test_results = []\n",
    "f1_test_results = []\n",
    "best_params_results = []\n",
    "\n",
    "for a,b,c,d,e in tqdm(combins):\n",
    "    n2v_model, X_train, X_test, y_train_encoded, y_test_encoded, X_unknown = preprocess_for_ml(a, b, c, d, e)                  \n",
    "    for selector in reduction_list:\n",
    "        for i in range(4):\n",
    "            pipeline = Pipeline([\n",
    "                ('preprocessor',  StandardScaler()),\n",
    "                ('DropConstant',  DropConstantFeatures(tol=0.99)),\n",
    "                ('DropDuplicate', DropDuplicateFeatures()),\n",
    "                ('DropCorr',      DropCorrelatedFeatures(threshold=0.90)),\n",
    "                ('DropSmart',     SmartCorrelatedSelection(threshold=0.80, cv=3)),\n",
    "                ('selector',      selector),\n",
    "                ('classifier',    classifier_list[i])])\n",
    "\n",
    "            study = optuna.create_study(direction='maximize')\n",
    "            study.optimize(objective, n_trials=100)\n",
    "\n",
    "            best_params = study.best_params\n",
    "            best_model = get_best_params()\n",
    "            pipeline.steps[-1] = ('classifier', best_model)\n",
    "\n",
    "            cv_results = cross_validate(pipeline, X_train, y_train_encoded, scoring=(\"f1_macro\",\"accuracy\"), cv=kf, return_train_score=True)\n",
    "\n",
    "            val_f1_train = cv_results['train_f1_macro'].mean()\n",
    "            val_f1_test = cv_results['test_f1_macro'].mean()\n",
    "            val_acc_train = cv_results['train_accuracy'].mean()\n",
    "            val_acc_test = cv_results['test_accuracy'].mean()\n",
    "\n",
    "            model = pipeline.fit(X_train, y_train_encoded)\n",
    "            preds = model.predict(X_test)\n",
    "            test_acc_score = accuracy_score(y_test_encoded, preds)\n",
    "            test_f1_score = f1_score(y_test_encoded, preds, average='macro')\n",
    "\n",
    "\n",
    "            dim_results.append(a)\n",
    "            walk_results.append(b)\n",
    "            walk_dist_results.append(c)\n",
    "            p_results.append(d)\n",
    "            q_results.append(e)\n",
    "            selector_results.append(selector)\n",
    "            classifier_names.append(classifier_list[i].__class__.__name__)\n",
    "            val_acc_train_results.append(val_acc_train)\n",
    "            val_acc_test_results.append(val_acc_test)\n",
    "            val_f1_train_results.append(val_f1_train)\n",
    "            val_f1_test_results.append(val_f1_test)\n",
    "            acc_test_results.append(test_acc_score)\n",
    "            f1_test_results.append(test_f1_score)\n",
    "            best_params_results.append(best_params)"
   ]
  },
  {
   "cell_type": "markdown",
   "id": "e7532662",
   "metadata": {},
   "source": [
    "**Combining and displaying results**"
   ]
  },
  {
   "cell_type": "code",
   "execution_count": 23,
   "id": "bed068b2",
   "metadata": {
    "scrolled": true
   },
   "outputs": [
    {
     "data": {
      "text/html": [
       "<div>\n",
       "<style scoped>\n",
       "    .dataframe tbody tr th:only-of-type {\n",
       "        vertical-align: middle;\n",
       "    }\n",
       "\n",
       "    .dataframe tbody tr th {\n",
       "        vertical-align: top;\n",
       "    }\n",
       "\n",
       "    .dataframe thead th {\n",
       "        text-align: right;\n",
       "    }\n",
       "</style>\n",
       "<table border=\"1\" class=\"dataframe\">\n",
       "  <thead>\n",
       "    <tr style=\"text-align: right;\">\n",
       "      <th></th>\n",
       "      <th>Model Name</th>\n",
       "      <th>Selector</th>\n",
       "      <th>val_acc_train_results</th>\n",
       "      <th>val_acc_test_results</th>\n",
       "      <th>val_f1_train_results</th>\n",
       "      <th>val_f1_test_results</th>\n",
       "      <th>acc_test_results</th>\n",
       "      <th>f1_test_results</th>\n",
       "      <th>dim_results</th>\n",
       "      <th>walk_results</th>\n",
       "      <th>walk_dist_results</th>\n",
       "      <th>p_results</th>\n",
       "      <th>q_results</th>\n",
       "      <th>best_params_results</th>\n",
       "    </tr>\n",
       "  </thead>\n",
       "  <tbody>\n",
       "    <tr>\n",
       "      <th>0</th>\n",
       "      <td>RandomForestClassifier</td>\n",
       "      <td>PCA(n_components=0.95, random_state=42)</td>\n",
       "      <td>0.985368</td>\n",
       "      <td>0.945859</td>\n",
       "      <td>0.982987</td>\n",
       "      <td>0.939272</td>\n",
       "      <td>0.927083</td>\n",
       "      <td>0.920507</td>\n",
       "      <td>8</td>\n",
       "      <td>12</td>\n",
       "      <td>8</td>\n",
       "      <td>0.5</td>\n",
       "      <td>2</td>\n",
       "      <td>{'n_estimators': 191, 'max_depth': 4, 'min_sam...</td>\n",
       "    </tr>\n",
       "    <tr>\n",
       "      <th>1</th>\n",
       "      <td>XGBClassifier</td>\n",
       "      <td>PCA(n_components=0.95, random_state=42)</td>\n",
       "      <td>1.000000</td>\n",
       "      <td>0.941111</td>\n",
       "      <td>1.000000</td>\n",
       "      <td>0.939135</td>\n",
       "      <td>0.927083</td>\n",
       "      <td>0.918235</td>\n",
       "      <td>8</td>\n",
       "      <td>12</td>\n",
       "      <td>8</td>\n",
       "      <td>0.5</td>\n",
       "      <td>2</td>\n",
       "      <td>{'learning_rate': 0.1495269979526077, 'max_dep...</td>\n",
       "    </tr>\n",
       "    <tr>\n",
       "      <th>2</th>\n",
       "      <td>QuadraticDiscriminantAnalysis</td>\n",
       "      <td>PCA(n_components=0.95, random_state=42)</td>\n",
       "      <td>0.974087</td>\n",
       "      <td>0.959394</td>\n",
       "      <td>0.970399</td>\n",
       "      <td>0.950348</td>\n",
       "      <td>0.937500</td>\n",
       "      <td>0.938967</td>\n",
       "      <td>8</td>\n",
       "      <td>12</td>\n",
       "      <td>8</td>\n",
       "      <td>0.5</td>\n",
       "      <td>2</td>\n",
       "      <td>{'reg_param': 0.7869007446994514}</td>\n",
       "    </tr>\n",
       "    <tr>\n",
       "      <th>3</th>\n",
       "      <td>MLPClassifier</td>\n",
       "      <td>PCA(n_components=0.95, random_state=42)</td>\n",
       "      <td>1.000000</td>\n",
       "      <td>0.972929</td>\n",
       "      <td>1.000000</td>\n",
       "      <td>0.966049</td>\n",
       "      <td>0.979167</td>\n",
       "      <td>0.979114</td>\n",
       "      <td>8</td>\n",
       "      <td>12</td>\n",
       "      <td>8</td>\n",
       "      <td>0.5</td>\n",
       "      <td>2</td>\n",
       "      <td>{'hidden_layer_sizes': 100, 'activation': 'rel...</td>\n",
       "    </tr>\n",
       "    <tr>\n",
       "      <th>4</th>\n",
       "      <td>RandomForestClassifier</td>\n",
       "      <td>RFECV(estimator=DecisionTreeClassifier(random_...</td>\n",
       "      <td>0.972970</td>\n",
       "      <td>0.945657</td>\n",
       "      <td>0.968644</td>\n",
       "      <td>0.942867</td>\n",
       "      <td>0.937500</td>\n",
       "      <td>0.941344</td>\n",
       "      <td>8</td>\n",
       "      <td>12</td>\n",
       "      <td>8</td>\n",
       "      <td>0.5</td>\n",
       "      <td>2</td>\n",
       "      <td>{'n_estimators': 263, 'max_depth': 4, 'min_sam...</td>\n",
       "    </tr>\n",
       "    <tr>\n",
       "      <th>...</th>\n",
       "      <td>...</td>\n",
       "      <td>...</td>\n",
       "      <td>...</td>\n",
       "      <td>...</td>\n",
       "      <td>...</td>\n",
       "      <td>...</td>\n",
       "      <td>...</td>\n",
       "      <td>...</td>\n",
       "      <td>...</td>\n",
       "      <td>...</td>\n",
       "      <td>...</td>\n",
       "      <td>...</td>\n",
       "      <td>...</td>\n",
       "      <td>...</td>\n",
       "    </tr>\n",
       "    <tr>\n",
       "      <th>251</th>\n",
       "      <td>MLPClassifier</td>\n",
       "      <td>PCA(n_components=0.95, random_state=42)</td>\n",
       "      <td>1.000000</td>\n",
       "      <td>0.991010</td>\n",
       "      <td>1.000000</td>\n",
       "      <td>0.987708</td>\n",
       "      <td>0.989583</td>\n",
       "      <td>0.992236</td>\n",
       "      <td>10</td>\n",
       "      <td>15</td>\n",
       "      <td>10</td>\n",
       "      <td>0.7</td>\n",
       "      <td>3</td>\n",
       "      <td>{'hidden_layer_sizes': 135, 'activation': 'rel...</td>\n",
       "    </tr>\n",
       "    <tr>\n",
       "      <th>252</th>\n",
       "      <td>RandomForestClassifier</td>\n",
       "      <td>RFECV(estimator=DecisionTreeClassifier(random_...</td>\n",
       "      <td>0.980854</td>\n",
       "      <td>0.941212</td>\n",
       "      <td>0.977942</td>\n",
       "      <td>0.927240</td>\n",
       "      <td>0.864583</td>\n",
       "      <td>0.864067</td>\n",
       "      <td>10</td>\n",
       "      <td>15</td>\n",
       "      <td>10</td>\n",
       "      <td>0.7</td>\n",
       "      <td>3</td>\n",
       "      <td>{'n_estimators': 283, 'max_depth': 4, 'min_sam...</td>\n",
       "    </tr>\n",
       "    <tr>\n",
       "      <th>253</th>\n",
       "      <td>XGBClassifier</td>\n",
       "      <td>RFECV(estimator=DecisionTreeClassifier(random_...</td>\n",
       "      <td>1.000000</td>\n",
       "      <td>0.959495</td>\n",
       "      <td>1.000000</td>\n",
       "      <td>0.950939</td>\n",
       "      <td>0.875000</td>\n",
       "      <td>0.869031</td>\n",
       "      <td>10</td>\n",
       "      <td>15</td>\n",
       "      <td>10</td>\n",
       "      <td>0.7</td>\n",
       "      <td>3</td>\n",
       "      <td>{'learning_rate': 0.18823863639956118, 'max_de...</td>\n",
       "    </tr>\n",
       "    <tr>\n",
       "      <th>254</th>\n",
       "      <td>QuadraticDiscriminantAnalysis</td>\n",
       "      <td>RFECV(estimator=DecisionTreeClassifier(random_...</td>\n",
       "      <td>0.950448</td>\n",
       "      <td>0.936667</td>\n",
       "      <td>0.945033</td>\n",
       "      <td>0.926965</td>\n",
       "      <td>0.729167</td>\n",
       "      <td>0.692796</td>\n",
       "      <td>10</td>\n",
       "      <td>15</td>\n",
       "      <td>10</td>\n",
       "      <td>0.7</td>\n",
       "      <td>3</td>\n",
       "      <td>{'reg_param': 0.8498019533299637}</td>\n",
       "    </tr>\n",
       "    <tr>\n",
       "      <th>255</th>\n",
       "      <td>MLPClassifier</td>\n",
       "      <td>RFECV(estimator=DecisionTreeClassifier(random_...</td>\n",
       "      <td>0.995506</td>\n",
       "      <td>0.941313</td>\n",
       "      <td>0.994590</td>\n",
       "      <td>0.930667</td>\n",
       "      <td>0.937500</td>\n",
       "      <td>0.933527</td>\n",
       "      <td>10</td>\n",
       "      <td>15</td>\n",
       "      <td>10</td>\n",
       "      <td>0.7</td>\n",
       "      <td>3</td>\n",
       "      <td>{'hidden_layer_sizes': 126, 'activation': 'rel...</td>\n",
       "    </tr>\n",
       "  </tbody>\n",
       "</table>\n",
       "<p>256 rows × 14 columns</p>\n",
       "</div>"
      ],
      "text/plain": [
       "                        Model Name   \n",
       "0           RandomForestClassifier  \\\n",
       "1                    XGBClassifier   \n",
       "2    QuadraticDiscriminantAnalysis   \n",
       "3                    MLPClassifier   \n",
       "4           RandomForestClassifier   \n",
       "..                             ...   \n",
       "251                  MLPClassifier   \n",
       "252         RandomForestClassifier   \n",
       "253                  XGBClassifier   \n",
       "254  QuadraticDiscriminantAnalysis   \n",
       "255                  MLPClassifier   \n",
       "\n",
       "                                              Selector  val_acc_train_results   \n",
       "0              PCA(n_components=0.95, random_state=42)               0.985368  \\\n",
       "1              PCA(n_components=0.95, random_state=42)               1.000000   \n",
       "2              PCA(n_components=0.95, random_state=42)               0.974087   \n",
       "3              PCA(n_components=0.95, random_state=42)               1.000000   \n",
       "4    RFECV(estimator=DecisionTreeClassifier(random_...               0.972970   \n",
       "..                                                 ...                    ...   \n",
       "251            PCA(n_components=0.95, random_state=42)               1.000000   \n",
       "252  RFECV(estimator=DecisionTreeClassifier(random_...               0.980854   \n",
       "253  RFECV(estimator=DecisionTreeClassifier(random_...               1.000000   \n",
       "254  RFECV(estimator=DecisionTreeClassifier(random_...               0.950448   \n",
       "255  RFECV(estimator=DecisionTreeClassifier(random_...               0.995506   \n",
       "\n",
       "     val_acc_test_results  val_f1_train_results  val_f1_test_results   \n",
       "0                0.945859              0.982987             0.939272  \\\n",
       "1                0.941111              1.000000             0.939135   \n",
       "2                0.959394              0.970399             0.950348   \n",
       "3                0.972929              1.000000             0.966049   \n",
       "4                0.945657              0.968644             0.942867   \n",
       "..                    ...                   ...                  ...   \n",
       "251              0.991010              1.000000             0.987708   \n",
       "252              0.941212              0.977942             0.927240   \n",
       "253              0.959495              1.000000             0.950939   \n",
       "254              0.936667              0.945033             0.926965   \n",
       "255              0.941313              0.994590             0.930667   \n",
       "\n",
       "     acc_test_results  f1_test_results  dim_results  walk_results   \n",
       "0            0.927083         0.920507            8            12  \\\n",
       "1            0.927083         0.918235            8            12   \n",
       "2            0.937500         0.938967            8            12   \n",
       "3            0.979167         0.979114            8            12   \n",
       "4            0.937500         0.941344            8            12   \n",
       "..                ...              ...          ...           ...   \n",
       "251          0.989583         0.992236           10            15   \n",
       "252          0.864583         0.864067           10            15   \n",
       "253          0.875000         0.869031           10            15   \n",
       "254          0.729167         0.692796           10            15   \n",
       "255          0.937500         0.933527           10            15   \n",
       "\n",
       "     walk_dist_results  p_results  q_results   \n",
       "0                    8        0.5          2  \\\n",
       "1                    8        0.5          2   \n",
       "2                    8        0.5          2   \n",
       "3                    8        0.5          2   \n",
       "4                    8        0.5          2   \n",
       "..                 ...        ...        ...   \n",
       "251                 10        0.7          3   \n",
       "252                 10        0.7          3   \n",
       "253                 10        0.7          3   \n",
       "254                 10        0.7          3   \n",
       "255                 10        0.7          3   \n",
       "\n",
       "                                   best_params_results  \n",
       "0    {'n_estimators': 191, 'max_depth': 4, 'min_sam...  \n",
       "1    {'learning_rate': 0.1495269979526077, 'max_dep...  \n",
       "2                    {'reg_param': 0.7869007446994514}  \n",
       "3    {'hidden_layer_sizes': 100, 'activation': 'rel...  \n",
       "4    {'n_estimators': 263, 'max_depth': 4, 'min_sam...  \n",
       "..                                                 ...  \n",
       "251  {'hidden_layer_sizes': 135, 'activation': 'rel...  \n",
       "252  {'n_estimators': 283, 'max_depth': 4, 'min_sam...  \n",
       "253  {'learning_rate': 0.18823863639956118, 'max_de...  \n",
       "254                  {'reg_param': 0.8498019533299637}  \n",
       "255  {'hidden_layer_sizes': 126, 'activation': 'rel...  \n",
       "\n",
       "[256 rows x 14 columns]"
      ]
     },
     "execution_count": 23,
     "metadata": {},
     "output_type": "execute_result"
    }
   ],
   "source": [
    "columns = ['Model Name', 'Selector',\"val_acc_train_results\",\"val_acc_test_results\",\"val_f1_train_results\",\n",
    "           \"val_f1_test_results\",\"acc_test_results\",\"f1_test_results\",\"dim_results\",\"walk_results\",\"walk_dist_results\",\n",
    "           \"p_results\",\"q_results\",\"best_params_results\"]\n",
    "\n",
    "df_results = pd.DataFrame(zip(classifier_names, selector_results,val_acc_train_results,\n",
    "                              val_acc_test_results,val_f1_train_results,val_f1_test_results,acc_test_results,\n",
    "                              f1_test_results,dim_results,walk_results,walk_dist_results,p_results,q_results,\n",
    "                              best_params_results), columns=columns)\n",
    "df_results"
   ]
  },
  {
   "cell_type": "markdown",
   "id": "9a38cd5c",
   "metadata": {},
   "source": [
    "**Since the data set is small, I apply the generally accepted overfit control ratio 0.05 to 0.1.**"
   ]
  },
  {
   "cell_type": "code",
   "execution_count": 24,
   "id": "3838cccd",
   "metadata": {},
   "outputs": [],
   "source": [
    "df_results[\"checking_overfitting\"] = np.where((df_results.val_acc_train_results - df_results.val_acc_test_results > 0.1) | (df_results.val_acc_train_results - df_results.acc_test_results > 0.1),\"check\",\"pass\")"
   ]
  },
  {
   "cell_type": "code",
   "execution_count": 25,
   "id": "15ee0151",
   "metadata": {
    "scrolled": false
   },
   "outputs": [
    {
     "data": {
      "text/html": [
       "<div>\n",
       "<style scoped>\n",
       "    .dataframe tbody tr th:only-of-type {\n",
       "        vertical-align: middle;\n",
       "    }\n",
       "\n",
       "    .dataframe tbody tr th {\n",
       "        vertical-align: top;\n",
       "    }\n",
       "\n",
       "    .dataframe thead th {\n",
       "        text-align: right;\n",
       "    }\n",
       "</style>\n",
       "<table border=\"1\" class=\"dataframe\">\n",
       "  <thead>\n",
       "    <tr style=\"text-align: right;\">\n",
       "      <th></th>\n",
       "      <th>Model Name</th>\n",
       "      <th>Selector</th>\n",
       "      <th>val_acc_train_results</th>\n",
       "      <th>val_acc_test_results</th>\n",
       "      <th>val_f1_train_results</th>\n",
       "      <th>val_f1_test_results</th>\n",
       "      <th>acc_test_results</th>\n",
       "      <th>f1_test_results</th>\n",
       "      <th>dim_results</th>\n",
       "      <th>walk_results</th>\n",
       "      <th>walk_dist_results</th>\n",
       "      <th>p_results</th>\n",
       "      <th>q_results</th>\n",
       "      <th>best_params_results</th>\n",
       "      <th>checking_overfitting</th>\n",
       "    </tr>\n",
       "  </thead>\n",
       "  <tbody>\n",
       "    <tr>\n",
       "      <th>8</th>\n",
       "      <td>RandomForestClassifier</td>\n",
       "      <td>PCA(n_components=0.95, random_state=42)</td>\n",
       "      <td>0.989869</td>\n",
       "      <td>0.941212</td>\n",
       "      <td>0.988104</td>\n",
       "      <td>0.933580</td>\n",
       "      <td>0.885417</td>\n",
       "      <td>0.870096</td>\n",
       "      <td>8</td>\n",
       "      <td>12</td>\n",
       "      <td>8</td>\n",
       "      <td>0.5</td>\n",
       "      <td>3</td>\n",
       "      <td>{'n_estimators': 249, 'max_depth': 6, 'min_sam...</td>\n",
       "      <td>check</td>\n",
       "    </tr>\n",
       "    <tr>\n",
       "      <th>9</th>\n",
       "      <td>XGBClassifier</td>\n",
       "      <td>PCA(n_components=0.95, random_state=42)</td>\n",
       "      <td>1.000000</td>\n",
       "      <td>0.937071</td>\n",
       "      <td>1.000000</td>\n",
       "      <td>0.931396</td>\n",
       "      <td>0.895833</td>\n",
       "      <td>0.875078</td>\n",
       "      <td>8</td>\n",
       "      <td>12</td>\n",
       "      <td>8</td>\n",
       "      <td>0.5</td>\n",
       "      <td>3</td>\n",
       "      <td>{'learning_rate': 0.18175582252326514, 'max_de...</td>\n",
       "      <td>check</td>\n",
       "    </tr>\n",
       "    <tr>\n",
       "      <th>65</th>\n",
       "      <td>XGBClassifier</td>\n",
       "      <td>PCA(n_components=0.95, random_state=42)</td>\n",
       "      <td>1.000000</td>\n",
       "      <td>0.941515</td>\n",
       "      <td>1.000000</td>\n",
       "      <td>0.934050</td>\n",
       "      <td>0.895833</td>\n",
       "      <td>0.885745</td>\n",
       "      <td>8</td>\n",
       "      <td>15</td>\n",
       "      <td>8</td>\n",
       "      <td>0.5</td>\n",
       "      <td>2</td>\n",
       "      <td>{'learning_rate': 0.13422670686569266, 'max_de...</td>\n",
       "      <td>check</td>\n",
       "    </tr>\n",
       "    <tr>\n",
       "      <th>89</th>\n",
       "      <td>XGBClassifier</td>\n",
       "      <td>PCA(n_components=0.95, random_state=42)</td>\n",
       "      <td>1.000000</td>\n",
       "      <td>0.950606</td>\n",
       "      <td>1.000000</td>\n",
       "      <td>0.945809</td>\n",
       "      <td>0.895833</td>\n",
       "      <td>0.897622</td>\n",
       "      <td>8</td>\n",
       "      <td>15</td>\n",
       "      <td>8</td>\n",
       "      <td>0.7</td>\n",
       "      <td>3</td>\n",
       "      <td>{'learning_rate': 0.1725101824559117, 'max_dep...</td>\n",
       "      <td>check</td>\n",
       "    </tr>\n",
       "    <tr>\n",
       "      <th>161</th>\n",
       "      <td>XGBClassifier</td>\n",
       "      <td>PCA(n_components=0.95, random_state=42)</td>\n",
       "      <td>1.000000</td>\n",
       "      <td>0.936869</td>\n",
       "      <td>1.000000</td>\n",
       "      <td>0.925827</td>\n",
       "      <td>0.895833</td>\n",
       "      <td>0.888284</td>\n",
       "      <td>10</td>\n",
       "      <td>12</td>\n",
       "      <td>10</td>\n",
       "      <td>0.5</td>\n",
       "      <td>2</td>\n",
       "      <td>{'learning_rate': 0.1714327705114161, 'max_dep...</td>\n",
       "      <td>check</td>\n",
       "    </tr>\n",
       "    <tr>\n",
       "      <th>222</th>\n",
       "      <td>QuadraticDiscriminantAnalysis</td>\n",
       "      <td>RFECV(estimator=DecisionTreeClassifier(random_...</td>\n",
       "      <td>0.925747</td>\n",
       "      <td>0.909394</td>\n",
       "      <td>0.916819</td>\n",
       "      <td>0.893574</td>\n",
       "      <td>0.760417</td>\n",
       "      <td>0.758164</td>\n",
       "      <td>10</td>\n",
       "      <td>15</td>\n",
       "      <td>8</td>\n",
       "      <td>0.7</td>\n",
       "      <td>3</td>\n",
       "      <td>{'reg_param': 0.9015138170563634}</td>\n",
       "      <td>check</td>\n",
       "    </tr>\n",
       "    <tr>\n",
       "      <th>252</th>\n",
       "      <td>RandomForestClassifier</td>\n",
       "      <td>RFECV(estimator=DecisionTreeClassifier(random_...</td>\n",
       "      <td>0.980854</td>\n",
       "      <td>0.941212</td>\n",
       "      <td>0.977942</td>\n",
       "      <td>0.927240</td>\n",
       "      <td>0.864583</td>\n",
       "      <td>0.864067</td>\n",
       "      <td>10</td>\n",
       "      <td>15</td>\n",
       "      <td>10</td>\n",
       "      <td>0.7</td>\n",
       "      <td>3</td>\n",
       "      <td>{'n_estimators': 283, 'max_depth': 4, 'min_sam...</td>\n",
       "      <td>check</td>\n",
       "    </tr>\n",
       "    <tr>\n",
       "      <th>253</th>\n",
       "      <td>XGBClassifier</td>\n",
       "      <td>RFECV(estimator=DecisionTreeClassifier(random_...</td>\n",
       "      <td>1.000000</td>\n",
       "      <td>0.959495</td>\n",
       "      <td>1.000000</td>\n",
       "      <td>0.950939</td>\n",
       "      <td>0.875000</td>\n",
       "      <td>0.869031</td>\n",
       "      <td>10</td>\n",
       "      <td>15</td>\n",
       "      <td>10</td>\n",
       "      <td>0.7</td>\n",
       "      <td>3</td>\n",
       "      <td>{'learning_rate': 0.18823863639956118, 'max_de...</td>\n",
       "      <td>check</td>\n",
       "    </tr>\n",
       "    <tr>\n",
       "      <th>254</th>\n",
       "      <td>QuadraticDiscriminantAnalysis</td>\n",
       "      <td>RFECV(estimator=DecisionTreeClassifier(random_...</td>\n",
       "      <td>0.950448</td>\n",
       "      <td>0.936667</td>\n",
       "      <td>0.945033</td>\n",
       "      <td>0.926965</td>\n",
       "      <td>0.729167</td>\n",
       "      <td>0.692796</td>\n",
       "      <td>10</td>\n",
       "      <td>15</td>\n",
       "      <td>10</td>\n",
       "      <td>0.7</td>\n",
       "      <td>3</td>\n",
       "      <td>{'reg_param': 0.8498019533299637}</td>\n",
       "      <td>check</td>\n",
       "    </tr>\n",
       "  </tbody>\n",
       "</table>\n",
       "</div>"
      ],
      "text/plain": [
       "                        Model Name   \n",
       "8           RandomForestClassifier  \\\n",
       "9                    XGBClassifier   \n",
       "65                   XGBClassifier   \n",
       "89                   XGBClassifier   \n",
       "161                  XGBClassifier   \n",
       "222  QuadraticDiscriminantAnalysis   \n",
       "252         RandomForestClassifier   \n",
       "253                  XGBClassifier   \n",
       "254  QuadraticDiscriminantAnalysis   \n",
       "\n",
       "                                              Selector  val_acc_train_results   \n",
       "8              PCA(n_components=0.95, random_state=42)               0.989869  \\\n",
       "9              PCA(n_components=0.95, random_state=42)               1.000000   \n",
       "65             PCA(n_components=0.95, random_state=42)               1.000000   \n",
       "89             PCA(n_components=0.95, random_state=42)               1.000000   \n",
       "161            PCA(n_components=0.95, random_state=42)               1.000000   \n",
       "222  RFECV(estimator=DecisionTreeClassifier(random_...               0.925747   \n",
       "252  RFECV(estimator=DecisionTreeClassifier(random_...               0.980854   \n",
       "253  RFECV(estimator=DecisionTreeClassifier(random_...               1.000000   \n",
       "254  RFECV(estimator=DecisionTreeClassifier(random_...               0.950448   \n",
       "\n",
       "     val_acc_test_results  val_f1_train_results  val_f1_test_results   \n",
       "8                0.941212              0.988104             0.933580  \\\n",
       "9                0.937071              1.000000             0.931396   \n",
       "65               0.941515              1.000000             0.934050   \n",
       "89               0.950606              1.000000             0.945809   \n",
       "161              0.936869              1.000000             0.925827   \n",
       "222              0.909394              0.916819             0.893574   \n",
       "252              0.941212              0.977942             0.927240   \n",
       "253              0.959495              1.000000             0.950939   \n",
       "254              0.936667              0.945033             0.926965   \n",
       "\n",
       "     acc_test_results  f1_test_results  dim_results  walk_results   \n",
       "8            0.885417         0.870096            8            12  \\\n",
       "9            0.895833         0.875078            8            12   \n",
       "65           0.895833         0.885745            8            15   \n",
       "89           0.895833         0.897622            8            15   \n",
       "161          0.895833         0.888284           10            12   \n",
       "222          0.760417         0.758164           10            15   \n",
       "252          0.864583         0.864067           10            15   \n",
       "253          0.875000         0.869031           10            15   \n",
       "254          0.729167         0.692796           10            15   \n",
       "\n",
       "     walk_dist_results  p_results  q_results   \n",
       "8                    8        0.5          3  \\\n",
       "9                    8        0.5          3   \n",
       "65                   8        0.5          2   \n",
       "89                   8        0.7          3   \n",
       "161                 10        0.5          2   \n",
       "222                  8        0.7          3   \n",
       "252                 10        0.7          3   \n",
       "253                 10        0.7          3   \n",
       "254                 10        0.7          3   \n",
       "\n",
       "                                   best_params_results checking_overfitting  \n",
       "8    {'n_estimators': 249, 'max_depth': 6, 'min_sam...                check  \n",
       "9    {'learning_rate': 0.18175582252326514, 'max_de...                check  \n",
       "65   {'learning_rate': 0.13422670686569266, 'max_de...                check  \n",
       "89   {'learning_rate': 0.1725101824559117, 'max_dep...                check  \n",
       "161  {'learning_rate': 0.1714327705114161, 'max_dep...                check  \n",
       "222                  {'reg_param': 0.9015138170563634}                check  \n",
       "252  {'n_estimators': 283, 'max_depth': 4, 'min_sam...                check  \n",
       "253  {'learning_rate': 0.18823863639956118, 'max_de...                check  \n",
       "254                  {'reg_param': 0.8498019533299637}                check  "
      ]
     },
     "execution_count": 25,
     "metadata": {},
     "output_type": "execute_result"
    }
   ],
   "source": [
    "df_results[df_results.checking_overfitting == \"check\"]"
   ]
  },
  {
   "cell_type": "markdown",
   "id": "594c981a",
   "metadata": {},
   "source": [
    "**Getting the best results for each model type**"
   ]
  },
  {
   "cell_type": "code",
   "execution_count": 26,
   "id": "8bcbab8c",
   "metadata": {},
   "outputs": [
    {
     "data": {
      "text/html": [
       "<div>\n",
       "<style scoped>\n",
       "    .dataframe tbody tr th:only-of-type {\n",
       "        vertical-align: middle;\n",
       "    }\n",
       "\n",
       "    .dataframe tbody tr th {\n",
       "        vertical-align: top;\n",
       "    }\n",
       "\n",
       "    .dataframe thead th {\n",
       "        text-align: right;\n",
       "    }\n",
       "</style>\n",
       "<table border=\"1\" class=\"dataframe\">\n",
       "  <thead>\n",
       "    <tr style=\"text-align: right;\">\n",
       "      <th></th>\n",
       "      <th>Model Name</th>\n",
       "      <th>Selector</th>\n",
       "      <th>val_acc_train_results</th>\n",
       "      <th>val_acc_test_results</th>\n",
       "      <th>val_f1_train_results</th>\n",
       "      <th>val_f1_test_results</th>\n",
       "      <th>acc_test_results</th>\n",
       "      <th>f1_test_results</th>\n",
       "      <th>dim_results</th>\n",
       "      <th>walk_results</th>\n",
       "      <th>walk_dist_results</th>\n",
       "      <th>p_results</th>\n",
       "      <th>q_results</th>\n",
       "      <th>best_params_results</th>\n",
       "      <th>checking_overfitting</th>\n",
       "    </tr>\n",
       "  </thead>\n",
       "  <tbody>\n",
       "    <tr>\n",
       "      <th>251</th>\n",
       "      <td>MLPClassifier</td>\n",
       "      <td>PCA(n_components=0.95, random_state=42)</td>\n",
       "      <td>1.000000</td>\n",
       "      <td>0.991010</td>\n",
       "      <td>1.000000</td>\n",
       "      <td>0.987708</td>\n",
       "      <td>0.989583</td>\n",
       "      <td>0.992236</td>\n",
       "      <td>10</td>\n",
       "      <td>15</td>\n",
       "      <td>10</td>\n",
       "      <td>0.7</td>\n",
       "      <td>3</td>\n",
       "      <td>{'hidden_layer_sizes': 135, 'activation': 'rel...</td>\n",
       "      <td>pass</td>\n",
       "    </tr>\n",
       "    <tr>\n",
       "      <th>184</th>\n",
       "      <td>RandomForestClassifier</td>\n",
       "      <td>PCA(n_components=0.95, random_state=42)</td>\n",
       "      <td>0.998870</td>\n",
       "      <td>0.959495</td>\n",
       "      <td>0.998795</td>\n",
       "      <td>0.949965</td>\n",
       "      <td>0.989583</td>\n",
       "      <td>0.992236</td>\n",
       "      <td>10</td>\n",
       "      <td>12</td>\n",
       "      <td>10</td>\n",
       "      <td>0.7</td>\n",
       "      <td>3</td>\n",
       "      <td>{'n_estimators': 286, 'max_depth': 6, 'min_sam...</td>\n",
       "      <td>pass</td>\n",
       "    </tr>\n",
       "    <tr>\n",
       "      <th>186</th>\n",
       "      <td>QuadraticDiscriminantAnalysis</td>\n",
       "      <td>PCA(n_components=0.95, random_state=42)</td>\n",
       "      <td>0.981972</td>\n",
       "      <td>0.959495</td>\n",
       "      <td>0.979386</td>\n",
       "      <td>0.951939</td>\n",
       "      <td>0.979167</td>\n",
       "      <td>0.982788</td>\n",
       "      <td>10</td>\n",
       "      <td>12</td>\n",
       "      <td>10</td>\n",
       "      <td>0.7</td>\n",
       "      <td>3</td>\n",
       "      <td>{'reg_param': 0.5243003025640753}</td>\n",
       "      <td>pass</td>\n",
       "    </tr>\n",
       "    <tr>\n",
       "      <th>133</th>\n",
       "      <td>XGBClassifier</td>\n",
       "      <td>RFECV(estimator=DecisionTreeClassifier(random_...</td>\n",
       "      <td>1.000000</td>\n",
       "      <td>0.941313</td>\n",
       "      <td>1.000000</td>\n",
       "      <td>0.934589</td>\n",
       "      <td>0.979167</td>\n",
       "      <td>0.982788</td>\n",
       "      <td>10</td>\n",
       "      <td>12</td>\n",
       "      <td>8</td>\n",
       "      <td>0.5</td>\n",
       "      <td>2</td>\n",
       "      <td>{'learning_rate': 0.14581582540560722, 'max_de...</td>\n",
       "      <td>pass</td>\n",
       "    </tr>\n",
       "  </tbody>\n",
       "</table>\n",
       "</div>"
      ],
      "text/plain": [
       "                        Model Name   \n",
       "251                  MLPClassifier  \\\n",
       "184         RandomForestClassifier   \n",
       "186  QuadraticDiscriminantAnalysis   \n",
       "133                  XGBClassifier   \n",
       "\n",
       "                                              Selector  val_acc_train_results   \n",
       "251            PCA(n_components=0.95, random_state=42)               1.000000  \\\n",
       "184            PCA(n_components=0.95, random_state=42)               0.998870   \n",
       "186            PCA(n_components=0.95, random_state=42)               0.981972   \n",
       "133  RFECV(estimator=DecisionTreeClassifier(random_...               1.000000   \n",
       "\n",
       "     val_acc_test_results  val_f1_train_results  val_f1_test_results   \n",
       "251              0.991010              1.000000             0.987708  \\\n",
       "184              0.959495              0.998795             0.949965   \n",
       "186              0.959495              0.979386             0.951939   \n",
       "133              0.941313              1.000000             0.934589   \n",
       "\n",
       "     acc_test_results  f1_test_results  dim_results  walk_results   \n",
       "251          0.989583         0.992236           10            15  \\\n",
       "184          0.989583         0.992236           10            12   \n",
       "186          0.979167         0.982788           10            12   \n",
       "133          0.979167         0.982788           10            12   \n",
       "\n",
       "     walk_dist_results  p_results  q_results   \n",
       "251                 10        0.7          3  \\\n",
       "184                 10        0.7          3   \n",
       "186                 10        0.7          3   \n",
       "133                  8        0.5          2   \n",
       "\n",
       "                                   best_params_results checking_overfitting  \n",
       "251  {'hidden_layer_sizes': 135, 'activation': 'rel...                 pass  \n",
       "184  {'n_estimators': 286, 'max_depth': 6, 'min_sam...                 pass  \n",
       "186                  {'reg_param': 0.5243003025640753}                 pass  \n",
       "133  {'learning_rate': 0.14581582540560722, 'max_de...                 pass  "
      ]
     },
     "execution_count": 26,
     "metadata": {},
     "output_type": "execute_result"
    }
   ],
   "source": [
    "res = df_results.sort_values(by=\"f1_test_results\", ascending=False)\n",
    "res = res.drop_duplicates(subset = \"Model Name\", keep=\"first\")\n",
    "res"
   ]
  },
  {
   "cell_type": "code",
   "execution_count": 27,
   "id": "29f1ab81",
   "metadata": {},
   "outputs": [
    {
     "data": {
      "text/plain": [
       "0"
      ]
     },
     "execution_count": 27,
     "metadata": {},
     "output_type": "execute_result"
    }
   ],
   "source": [
    "len(res[res.checking_overfitting == \"check\"])"
   ]
  },
  {
   "cell_type": "markdown",
   "id": "0d718882",
   "metadata": {},
   "source": [
    "**Deployment of MLPClassifier model with best params and making predictions**"
   ]
  },
  {
   "cell_type": "code",
   "execution_count": 28,
   "id": "15daa27b",
   "metadata": {},
   "outputs": [
    {
     "data": {
      "text/html": [
       "<div>\n",
       "<style scoped>\n",
       "    .dataframe tbody tr th:only-of-type {\n",
       "        vertical-align: middle;\n",
       "    }\n",
       "\n",
       "    .dataframe tbody tr th {\n",
       "        vertical-align: top;\n",
       "    }\n",
       "\n",
       "    .dataframe thead th {\n",
       "        text-align: right;\n",
       "    }\n",
       "</style>\n",
       "<table border=\"1\" class=\"dataframe\">\n",
       "  <thead>\n",
       "    <tr style=\"text-align: right;\">\n",
       "      <th></th>\n",
       "      <th>dim_results</th>\n",
       "      <th>walk_results</th>\n",
       "      <th>walk_dist_results</th>\n",
       "      <th>p_results</th>\n",
       "      <th>q_results</th>\n",
       "      <th>best_params_results</th>\n",
       "      <th>checking_overfitting</th>\n",
       "    </tr>\n",
       "  </thead>\n",
       "  <tbody>\n",
       "    <tr>\n",
       "      <th>251</th>\n",
       "      <td>10</td>\n",
       "      <td>15</td>\n",
       "      <td>10</td>\n",
       "      <td>0.7</td>\n",
       "      <td>3</td>\n",
       "      <td>{'hidden_layer_sizes': 135, 'activation': 'rel...</td>\n",
       "      <td>pass</td>\n",
       "    </tr>\n",
       "  </tbody>\n",
       "</table>\n",
       "</div>"
      ],
      "text/plain": [
       "     dim_results  walk_results  walk_dist_results  p_results  q_results   \n",
       "251           10            15                 10        0.7          3  \\\n",
       "\n",
       "                                   best_params_results checking_overfitting  \n",
       "251  {'hidden_layer_sizes': 135, 'activation': 'rel...                 pass  "
      ]
     },
     "execution_count": 28,
     "metadata": {},
     "output_type": "execute_result"
    }
   ],
   "source": [
    "res.iloc[:1,8:]"
   ]
  },
  {
   "cell_type": "code",
   "execution_count": 29,
   "id": "e5588a16",
   "metadata": {},
   "outputs": [
    {
     "data": {
      "text/plain": [
       "{'hidden_layer_sizes': 135,\n",
       " 'activation': 'relu',\n",
       " 'solver': 'adam',\n",
       " 'alpha': 0.00031159004134736167,\n",
       " 'learning_rate_init': 0.0056806300928082575}"
      ]
     },
     "execution_count": 29,
     "metadata": {},
     "output_type": "execute_result"
    }
   ],
   "source": [
    "res.iloc[0,-2]"
   ]
  },
  {
   "cell_type": "code",
   "execution_count": 30,
   "id": "c43ddcda",
   "metadata": {},
   "outputs": [
    {
     "data": {
      "application/vnd.jupyter.widget-view+json": {
       "model_id": "563b7b3cc562462182abe6cbcac286fa",
       "version_major": 2,
       "version_minor": 0
      },
      "text/plain": [
       "Computing transition probabilities:   0%|          | 0/348 [00:00<?, ?it/s]"
      ]
     },
     "metadata": {},
     "output_type": "display_data"
    },
    {
     "name": "stderr",
     "output_type": "stream",
     "text": [
      "Generating walks (CPU: 1): 100%|███████████████████████████████████████████████████████| 15/15 [00:00<00:00, 45.45it/s]\n"
     ]
    }
   ],
   "source": [
    "n2v = Node2Vec(new_g, dimensions=10, num_walks=15, walk_length=10, p=0.7, q=3)\n",
    "n2v_model = n2v.fit(window=4, min_count=1, batch_words=4)\n",
    "\n",
    "n2vrep = dict()\n",
    "for node in new_g.nodes():\n",
    "    n2vrep[node] = n2v_model.wv[str(node)]\n",
    "df_n2v = pd.DataFrame(n2vrep).T\n",
    "\n",
    "feat_ext = RecursiveFeatureExtractor(new_g, max_generations=5)\n",
    "rolx_feats = feat_ext.extract_features()\n",
    "df_feats_all = pd.merge(df_n2v, rolx_feats, left_index=True, right_index=True)\n",
    "\n",
    "df_feats_all.index = df_feats_all.index.astype(np.int64, copy=True)\n",
    "df_data = pd.merge(df_feats_all, labels, left_index=True, right_index=True)\n",
    "df_data.columns = df_data.columns.astype(str)\n",
    "\n",
    "my_features_df.index = my_features_df.index.astype(np.int64, copy=True)\n",
    "kitchen_sink_df = pd.merge(df_data, my_features_df, left_index=True, right_index=True)\n",
    "\n",
    "unknowns = kitchen_sink_df[kitchen_sink_df.label=='unknown']\n",
    "raw_df = kitchen_sink_df[kitchen_sink_df.label!='unknown']\n",
    "\n",
    "X = raw_df.drop(columns=['label'])\n",
    "y = raw_df.label\n",
    "X_unknown=unknowns.drop(columns=['label'])\n",
    "\n",
    "le = LabelEncoder()\n",
    "y_encoded = le.fit_transform(y)\n",
    "\n",
    "pipeline = Pipeline([\n",
    "                    ('preprocessor',  StandardScaler()),\n",
    "                    ('DropConstant',  DropConstantFeatures(tol=0.99)),\n",
    "                    ('DropDuplicate', DropDuplicateFeatures()),\n",
    "                    ('DropCorr',      DropCorrelatedFeatures(threshold=0.90)),\n",
    "                    ('DropSmart',     SmartCorrelatedSelection(threshold=0.80, cv=3)),\n",
    "                    ('selector',      PCA(n_components=0.95, random_state=42)),\n",
    "                    ('classifier',    MLPClassifier(hidden_layer_sizes= 135,\n",
    "                                                    activation= \"relu\",\n",
    "                                                    solver= \"adam\",\n",
    "                                                    alpha= 0.00031159004134736167,\n",
    "                                                    learning_rate_init= 0.0056806300928082575))])\n",
    "\n",
    "MLPClassifiermodel = pipeline.fit(X, y_encoded)"
   ]
  },
  {
   "cell_type": "code",
   "execution_count": 43,
   "id": "38edbb3a",
   "metadata": {},
   "outputs": [],
   "source": [
    "mlp_predictions = X_unknown.copy()\n",
    "mlp_predictions[\"label\"] = le.inverse_transform(MLPClassifiermodel.predict(X_unknown)).tolist()\n",
    "mlp_predictions = mlp_predictions[[\"label\"]]"
   ]
  },
  {
   "cell_type": "code",
   "execution_count": 46,
   "id": "3b6c7c3b",
   "metadata": {},
   "outputs": [],
   "source": [
    "mlp_predictions.to_csv('predictions_mlp.txt', index_label=\"stdid\", sep=' ')"
   ]
  },
  {
   "cell_type": "markdown",
   "id": "3ebe11f6",
   "metadata": {},
   "source": [
    "**Deployment of QuadraticDiscriminantAnalysis model with best params and making predictions**"
   ]
  },
  {
   "cell_type": "code",
   "execution_count": 35,
   "id": "cbdcdcc9",
   "metadata": {},
   "outputs": [
    {
     "data": {
      "text/html": [
       "<div>\n",
       "<style scoped>\n",
       "    .dataframe tbody tr th:only-of-type {\n",
       "        vertical-align: middle;\n",
       "    }\n",
       "\n",
       "    .dataframe tbody tr th {\n",
       "        vertical-align: top;\n",
       "    }\n",
       "\n",
       "    .dataframe thead th {\n",
       "        text-align: right;\n",
       "    }\n",
       "</style>\n",
       "<table border=\"1\" class=\"dataframe\">\n",
       "  <thead>\n",
       "    <tr style=\"text-align: right;\">\n",
       "      <th></th>\n",
       "      <th>dim_results</th>\n",
       "      <th>walk_results</th>\n",
       "      <th>walk_dist_results</th>\n",
       "      <th>p_results</th>\n",
       "      <th>q_results</th>\n",
       "      <th>best_params_results</th>\n",
       "      <th>checking_overfitting</th>\n",
       "    </tr>\n",
       "  </thead>\n",
       "  <tbody>\n",
       "    <tr>\n",
       "      <th>186</th>\n",
       "      <td>10</td>\n",
       "      <td>12</td>\n",
       "      <td>10</td>\n",
       "      <td>0.7</td>\n",
       "      <td>3</td>\n",
       "      <td>{'reg_param': 0.5243003025640753}</td>\n",
       "      <td>pass</td>\n",
       "    </tr>\n",
       "  </tbody>\n",
       "</table>\n",
       "</div>"
      ],
      "text/plain": [
       "     dim_results  walk_results  walk_dist_results  p_results  q_results   \n",
       "186           10            12                 10        0.7          3  \\\n",
       "\n",
       "                   best_params_results checking_overfitting  \n",
       "186  {'reg_param': 0.5243003025640753}                 pass  "
      ]
     },
     "execution_count": 35,
     "metadata": {},
     "output_type": "execute_result"
    }
   ],
   "source": [
    "res.iloc[2:3,8:]"
   ]
  },
  {
   "cell_type": "code",
   "execution_count": 32,
   "id": "385f0413",
   "metadata": {},
   "outputs": [
    {
     "data": {
      "application/vnd.jupyter.widget-view+json": {
       "model_id": "0f9a3ed3b95e46e9b263645c98441638",
       "version_major": 2,
       "version_minor": 0
      },
      "text/plain": [
       "Computing transition probabilities:   0%|          | 0/348 [00:00<?, ?it/s]"
      ]
     },
     "metadata": {},
     "output_type": "display_data"
    },
    {
     "name": "stderr",
     "output_type": "stream",
     "text": [
      "Generating walks (CPU: 1): 100%|███████████████████████████████████████████████████████| 12/12 [00:00<00:00, 46.33it/s]\n"
     ]
    }
   ],
   "source": [
    "n2v = Node2Vec(new_g, dimensions=10, num_walks=12, walk_length=10, p=0.7, q=3)\n",
    "n2v_model = n2v.fit(window=4, min_count=1, batch_words=4)\n",
    "\n",
    "n2vrep = dict()\n",
    "for node in new_g.nodes():\n",
    "    n2vrep[node] = n2v_model.wv[str(node)]\n",
    "df_n2v = pd.DataFrame(n2vrep).T\n",
    "\n",
    "feat_ext = RecursiveFeatureExtractor(new_g, max_generations=5)\n",
    "rolx_feats = feat_ext.extract_features()\n",
    "df_feats_all = pd.merge(df_n2v, rolx_feats, left_index=True, right_index=True)\n",
    "\n",
    "df_feats_all.index = df_feats_all.index.astype(np.int64, copy=True)\n",
    "df_data = pd.merge(df_feats_all, labels, left_index=True, right_index=True)\n",
    "df_data.columns = df_data.columns.astype(str)\n",
    "\n",
    "my_features_df.index = my_features_df.index.astype(np.int64, copy=True)\n",
    "kitchen_sink_df = pd.merge(df_data, my_features_df, left_index=True, right_index=True)\n",
    "\n",
    "unknowns = kitchen_sink_df[kitchen_sink_df.label=='unknown']\n",
    "raw_df = kitchen_sink_df[kitchen_sink_df.label!='unknown']\n",
    "\n",
    "X = raw_df.drop(columns=['label'])\n",
    "y = raw_df.label\n",
    "X_unknown=unknowns.drop(columns=['label'])\n",
    "\n",
    "le = LabelEncoder()\n",
    "y_encoded = le.fit_transform(y)\n",
    "\n",
    "pipeline = Pipeline([\n",
    "                    ('preprocessor',  StandardScaler()),\n",
    "                    ('DropConstant',  DropConstantFeatures(tol=0.99)),\n",
    "                    ('DropDuplicate', DropDuplicateFeatures()),\n",
    "                    ('DropCorr',      DropCorrelatedFeatures(threshold=0.90)),\n",
    "                    ('DropSmart',     SmartCorrelatedSelection(threshold=0.80, cv=3)),\n",
    "                    ('selector',      PCA(n_components=0.95, random_state=42)),\n",
    "                    ('classifier',    QuadraticDiscriminantAnalysis(reg_param= 0.5243003025640753))])\n",
    "\n",
    "QUADmodel = pipeline.fit(X, y_encoded)"
   ]
  },
  {
   "cell_type": "code",
   "execution_count": 48,
   "id": "7b8b83f2",
   "metadata": {},
   "outputs": [],
   "source": [
    "QDA_predictions = X_unknown.copy()\n",
    "QDA_predictions[\"label\"] = le.inverse_transform(QUADmodel.predict(X_unknown)).tolist()\n",
    "QDA_predictions = QDA_predictions[[\"label\"]]\n",
    "QDA_predictions.to_csv('predictions_qda.txt', index_label=\"stdid\", sep=' ')"
   ]
  },
  {
   "cell_type": "markdown",
   "id": "84821b5a",
   "metadata": {},
   "source": [
    "**Deployment of XGB Classifier model with best params and making predictions**"
   ]
  },
  {
   "cell_type": "code",
   "execution_count": 36,
   "id": "0ae684cd",
   "metadata": {},
   "outputs": [
    {
     "data": {
      "text/html": [
       "<div>\n",
       "<style scoped>\n",
       "    .dataframe tbody tr th:only-of-type {\n",
       "        vertical-align: middle;\n",
       "    }\n",
       "\n",
       "    .dataframe tbody tr th {\n",
       "        vertical-align: top;\n",
       "    }\n",
       "\n",
       "    .dataframe thead th {\n",
       "        text-align: right;\n",
       "    }\n",
       "</style>\n",
       "<table border=\"1\" class=\"dataframe\">\n",
       "  <thead>\n",
       "    <tr style=\"text-align: right;\">\n",
       "      <th></th>\n",
       "      <th>dim_results</th>\n",
       "      <th>walk_results</th>\n",
       "      <th>walk_dist_results</th>\n",
       "      <th>p_results</th>\n",
       "      <th>q_results</th>\n",
       "      <th>best_params_results</th>\n",
       "      <th>checking_overfitting</th>\n",
       "    </tr>\n",
       "  </thead>\n",
       "  <tbody>\n",
       "    <tr>\n",
       "      <th>133</th>\n",
       "      <td>10</td>\n",
       "      <td>12</td>\n",
       "      <td>8</td>\n",
       "      <td>0.5</td>\n",
       "      <td>2</td>\n",
       "      <td>{'learning_rate': 0.14581582540560722, 'max_de...</td>\n",
       "      <td>pass</td>\n",
       "    </tr>\n",
       "  </tbody>\n",
       "</table>\n",
       "</div>"
      ],
      "text/plain": [
       "     dim_results  walk_results  walk_dist_results  p_results  q_results   \n",
       "133           10            12                  8        0.5          2  \\\n",
       "\n",
       "                                   best_params_results checking_overfitting  \n",
       "133  {'learning_rate': 0.14581582540560722, 'max_de...                 pass  "
      ]
     },
     "execution_count": 36,
     "metadata": {},
     "output_type": "execute_result"
    }
   ],
   "source": [
    "res.iloc[3:4,8:]"
   ]
  },
  {
   "cell_type": "code",
   "execution_count": 37,
   "id": "440ba209",
   "metadata": {},
   "outputs": [
    {
     "data": {
      "text/plain": [
       "{'learning_rate': 0.14581582540560722,\n",
       " 'max_depth': 10,\n",
       " 'subsample': 0.7541758139901041,\n",
       " 'colsample_bytree': 0.6915055905882553,\n",
       " 'reg_alpha': 0.2906391689199846,\n",
       " 'reg_lambda': 0.9865505524209566}"
      ]
     },
     "execution_count": 37,
     "metadata": {},
     "output_type": "execute_result"
    }
   ],
   "source": [
    "res.iloc[3,-2]"
   ]
  },
  {
   "cell_type": "code",
   "execution_count": 38,
   "id": "16ad417b",
   "metadata": {},
   "outputs": [
    {
     "data": {
      "application/vnd.jupyter.widget-view+json": {
       "model_id": "851b3ef35fdb406fb8a7feff47bbd82c",
       "version_major": 2,
       "version_minor": 0
      },
      "text/plain": [
       "Computing transition probabilities:   0%|          | 0/348 [00:00<?, ?it/s]"
      ]
     },
     "metadata": {},
     "output_type": "display_data"
    },
    {
     "name": "stderr",
     "output_type": "stream",
     "text": [
      "Generating walks (CPU: 1): 100%|███████████████████████████████████████████████████████| 12/12 [00:00<00:00, 60.39it/s]\n"
     ]
    }
   ],
   "source": [
    "n2v = Node2Vec(new_g, dimensions=10, num_walks=12, walk_length=8, p=0.5, q=2)\n",
    "n2v_model = n2v.fit(window=4, min_count=1, batch_words=4)\n",
    "\n",
    "n2vrep = dict()\n",
    "for node in new_g.nodes():\n",
    "    n2vrep[node] = n2v_model.wv[str(node)]\n",
    "df_n2v = pd.DataFrame(n2vrep).T\n",
    "\n",
    "feat_ext = RecursiveFeatureExtractor(new_g, max_generations=5)\n",
    "rolx_feats = feat_ext.extract_features()\n",
    "df_feats_all = pd.merge(df_n2v, rolx_feats, left_index=True, right_index=True)\n",
    "\n",
    "df_feats_all.index = df_feats_all.index.astype(np.int64, copy=True)\n",
    "df_data = pd.merge(df_feats_all, labels, left_index=True, right_index=True)\n",
    "df_data.columns = df_data.columns.astype(str)\n",
    "\n",
    "my_features_df.index = my_features_df.index.astype(np.int64, copy=True)\n",
    "kitchen_sink_df = pd.merge(df_data, my_features_df, left_index=True, right_index=True)\n",
    "\n",
    "unknowns = kitchen_sink_df[kitchen_sink_df.label=='unknown']\n",
    "raw_df = kitchen_sink_df[kitchen_sink_df.label!='unknown']\n",
    "\n",
    "X = raw_df.drop(columns=['label'])\n",
    "y = raw_df.label\n",
    "X_unknown=unknowns.drop(columns=['label'])\n",
    "\n",
    "le = LabelEncoder()\n",
    "y_encoded = le.fit_transform(y)\n",
    "\n",
    "pipeline = Pipeline([\n",
    "                    ('preprocessor',  StandardScaler()),\n",
    "                    ('DropConstant',  DropConstantFeatures(tol=0.99)),\n",
    "                    ('DropDuplicate', DropDuplicateFeatures()),\n",
    "                    ('DropCorr',      DropCorrelatedFeatures(threshold=0.90)),\n",
    "                    ('DropSmart',     SmartCorrelatedSelection(threshold=0.80, cv=3)),\n",
    "                    ('selector',      RFECV(estimator=estimator,scoring=scoring)),\n",
    "                    ('classifier',    XGBClassifier(learning_rate=0.14581582540560722,\n",
    "                                                    max_depth=10,\n",
    "                                                    subsample=0.7541758139901041,\n",
    "                                                    colsample_bytree=0.6915055905882553,\n",
    "                                                    reg_alpha=0.2906391689199846,\n",
    "                                                    reg_lambda=0.9865505524209566))])\n",
    "\n",
    "\n",
    "XGBmodel = pipeline.fit(X, y_encoded)"
   ]
  },
  {
   "cell_type": "code",
   "execution_count": 52,
   "id": "24990e25",
   "metadata": {},
   "outputs": [],
   "source": [
    "xgb_predictions = X_unknown.copy()\n",
    "xgb_predictions[\"label\"] = le.inverse_transform(XGBmodel.predict(X_unknown)).tolist()\n",
    "xgb_predictions = xgb_predictions[[\"label\"]]\n",
    "xgb_predictions.to_csv('predictions_xgb.txt', index_label=\"stdid\", sep=' ')"
   ]
  },
  {
   "cell_type": "markdown",
   "id": "aa8d0ba4",
   "metadata": {},
   "source": [
    "**Deployment of RandomForestClassifier model with best params and making predictions**"
   ]
  },
  {
   "cell_type": "code",
   "execution_count": 40,
   "id": "38403b79",
   "metadata": {},
   "outputs": [
    {
     "data": {
      "text/html": [
       "<div>\n",
       "<style scoped>\n",
       "    .dataframe tbody tr th:only-of-type {\n",
       "        vertical-align: middle;\n",
       "    }\n",
       "\n",
       "    .dataframe tbody tr th {\n",
       "        vertical-align: top;\n",
       "    }\n",
       "\n",
       "    .dataframe thead th {\n",
       "        text-align: right;\n",
       "    }\n",
       "</style>\n",
       "<table border=\"1\" class=\"dataframe\">\n",
       "  <thead>\n",
       "    <tr style=\"text-align: right;\">\n",
       "      <th></th>\n",
       "      <th>dim_results</th>\n",
       "      <th>walk_results</th>\n",
       "      <th>walk_dist_results</th>\n",
       "      <th>p_results</th>\n",
       "      <th>q_results</th>\n",
       "      <th>best_params_results</th>\n",
       "      <th>checking_overfitting</th>\n",
       "    </tr>\n",
       "  </thead>\n",
       "  <tbody>\n",
       "    <tr>\n",
       "      <th>184</th>\n",
       "      <td>10</td>\n",
       "      <td>12</td>\n",
       "      <td>10</td>\n",
       "      <td>0.7</td>\n",
       "      <td>3</td>\n",
       "      <td>{'n_estimators': 286, 'max_depth': 6, 'min_sam...</td>\n",
       "      <td>pass</td>\n",
       "    </tr>\n",
       "  </tbody>\n",
       "</table>\n",
       "</div>"
      ],
      "text/plain": [
       "     dim_results  walk_results  walk_dist_results  p_results  q_results   \n",
       "184           10            12                 10        0.7          3  \\\n",
       "\n",
       "                                   best_params_results checking_overfitting  \n",
       "184  {'n_estimators': 286, 'max_depth': 6, 'min_sam...                 pass  "
      ]
     },
     "execution_count": 40,
     "metadata": {},
     "output_type": "execute_result"
    }
   ],
   "source": [
    "res.iloc[1:2,8:]"
   ]
  },
  {
   "cell_type": "code",
   "execution_count": 41,
   "id": "a01d80ca",
   "metadata": {},
   "outputs": [
    {
     "data": {
      "text/plain": [
       "{'n_estimators': 286,\n",
       " 'max_depth': 6,\n",
       " 'min_samples_split': 7,\n",
       " 'min_samples_leaf': 1,\n",
       " 'max_features': 'auto'}"
      ]
     },
     "execution_count": 41,
     "metadata": {},
     "output_type": "execute_result"
    }
   ],
   "source": [
    "res.iloc[1,-2]"
   ]
  },
  {
   "cell_type": "code",
   "execution_count": 42,
   "id": "0992ca57",
   "metadata": {},
   "outputs": [
    {
     "data": {
      "application/vnd.jupyter.widget-view+json": {
       "model_id": "0dfc9a3ec5bd4e26979c6026fe1c1506",
       "version_major": 2,
       "version_minor": 0
      },
      "text/plain": [
       "Computing transition probabilities:   0%|          | 0/348 [00:00<?, ?it/s]"
      ]
     },
     "metadata": {},
     "output_type": "display_data"
    },
    {
     "name": "stderr",
     "output_type": "stream",
     "text": [
      "Generating walks (CPU: 1): 100%|███████████████████████████████████████████████████████| 12/12 [00:00<00:00, 45.46it/s]\n"
     ]
    }
   ],
   "source": [
    "n2v = Node2Vec(new_g, dimensions=10, num_walks=12, walk_length=10, p=0.7, q=3)\n",
    "n2v_model = n2v.fit(window=4, min_count=1, batch_words=4)\n",
    "\n",
    "n2vrep = dict()\n",
    "for node in new_g.nodes():\n",
    "    n2vrep[node] = n2v_model.wv[str(node)]\n",
    "df_n2v = pd.DataFrame(n2vrep).T\n",
    "\n",
    "feat_ext = RecursiveFeatureExtractor(new_g, max_generations=5)\n",
    "rolx_feats = feat_ext.extract_features()\n",
    "df_feats_all = pd.merge(df_n2v, rolx_feats, left_index=True, right_index=True)\n",
    "\n",
    "df_feats_all.index = df_feats_all.index.astype(np.int64, copy=True)\n",
    "df_data = pd.merge(df_feats_all, labels, left_index=True, right_index=True)\n",
    "df_data.columns = df_data.columns.astype(str)\n",
    "\n",
    "my_features_df.index = my_features_df.index.astype(np.int64, copy=True)\n",
    "kitchen_sink_df = pd.merge(df_data, my_features_df, left_index=True, right_index=True)\n",
    "\n",
    "unknowns = kitchen_sink_df[kitchen_sink_df.label=='unknown']\n",
    "raw_df = kitchen_sink_df[kitchen_sink_df.label!='unknown']\n",
    "\n",
    "X = raw_df.drop(columns=['label'])\n",
    "y = raw_df.label\n",
    "X_unknown=unknowns.drop(columns=['label'])\n",
    "\n",
    "le = LabelEncoder()\n",
    "y_encoded = le.fit_transform(y)\n",
    "\n",
    "pipeline = Pipeline([\n",
    "                    ('preprocessor',  StandardScaler()),\n",
    "                    ('DropConstant',  DropConstantFeatures(tol=0.99)),\n",
    "                    ('DropDuplicate', DropDuplicateFeatures()),\n",
    "                    ('DropCorr',      DropCorrelatedFeatures(threshold=0.90)),\n",
    "                    ('DropSmart',     SmartCorrelatedSelection(threshold=0.80, cv=3)),\n",
    "                    ('selector',      RFECV(estimator=estimator,scoring=scoring)),\n",
    "                    ('classifier',    RandomForestClassifier(n_estimators=286,\n",
    "                                                             max_depth=6,\n",
    "                                                             min_samples_split=7,\n",
    "                                                             min_samples_leaf=1,\n",
    "                                                             max_features=\"auto\"))])\n",
    "\n",
    "\n",
    "random_forest_model = pipeline.fit(X, y_encoded)"
   ]
  },
  {
   "cell_type": "code",
   "execution_count": 56,
   "id": "b7ab9e90",
   "metadata": {},
   "outputs": [],
   "source": [
    "randomforest_predictions = X_unknown.copy()\n",
    "randomforest_predictions[\"label\"] = le.inverse_transform(random_forest_model.predict(X_unknown)).tolist()\n",
    "randomforest_predictions = randomforest_predictions[[\"label\"]]\n",
    "randomforest_predictions.to_csv('predictions_random_forest.txt', index_label=\"stdid\", sep=' ')"
   ]
  },
  {
   "cell_type": "markdown",
   "id": "e467437b",
   "metadata": {},
   "source": [
    "**Saving Models:**"
   ]
  },
  {
   "cell_type": "code",
   "execution_count": 59,
   "id": "75a64b88",
   "metadata": {},
   "outputs": [],
   "source": [
    "import pickle\n",
    "\n",
    "filename = 'mlp_deployed_model.ncmodel'\n",
    "pickle.dump(MLPClassifiermodel, open(filename,'wb'))"
   ]
  },
  {
   "cell_type": "code",
   "execution_count": 61,
   "id": "098cf78e",
   "metadata": {},
   "outputs": [],
   "source": [
    "filename = 'qda_deployed_model.ncmodel'\n",
    "pickle.dump(QUADmodel, open(filename,'wb'))\n",
    "\n",
    "filename = 'xgb_deployed_model.ncmodel'\n",
    "pickle.dump(XGBmodel, open(filename,'wb'))\n",
    "\n",
    "filename = 'rf_deployed_model.ncmodel'\n",
    "pickle.dump(random_forest_model, open(filename,'wb'))"
   ]
  }
 ],
 "metadata": {
  "kernelspec": {
   "display_name": "Python 3 (ipykernel)",
   "language": "python",
   "name": "python3"
  },
  "language_info": {
   "codemirror_mode": {
    "name": "ipython",
    "version": 3
   },
   "file_extension": ".py",
   "mimetype": "text/x-python",
   "name": "python",
   "nbconvert_exporter": "python",
   "pygments_lexer": "ipython3",
   "version": "3.9.12"
  }
 },
 "nbformat": 4,
 "nbformat_minor": 5
}
